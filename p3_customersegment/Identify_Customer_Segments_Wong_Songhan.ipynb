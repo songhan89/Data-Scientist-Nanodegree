{
 "cells": [
  {
   "cell_type": "markdown",
   "metadata": {},
   "source": [
    "# Project: Identify Customer Segments\n",
    "\n",
    "In this project, you will apply unsupervised learning techniques to identify segments of the population that form the core customer base for a mail-order sales company in Germany. These segments can then be used to direct marketing campaigns towards audiences that will have the highest expected rate of returns. The data that you will use has been provided by our partners at Bertelsmann Arvato Analytics, and represents a real-life data science task.\n",
    "\n",
    "This notebook will help you complete this task by providing a framework within which you will perform your analysis steps. In each step of the project, you will see some text describing the subtask that you will perform, followed by one or more code cells for you to complete your work. **Feel free to add additional code and markdown cells as you go along so that you can explore everything in precise chunks.** The code cells provided in the base template will outline only the major tasks, and will usually not be enough to cover all of the minor tasks that comprise it.\n",
    "\n",
    "It should be noted that while there will be precise guidelines on how you should handle certain tasks in the project, there will also be places where an exact specification is not provided. **There will be times in the project where you will need to make and justify your own decisions on how to treat the data.** These are places where there may not be only one way to handle the data. In real-life tasks, there may be many valid ways to approach an analysis task. One of the most important things you can do is clearly document your approach so that other scientists can understand the decisions you've made.\n",
    "\n",
    "At the end of most sections, there will be a Markdown cell labeled **Discussion**. In these cells, you will report your findings for the completed section, as well as document the decisions that you made in your approach to each subtask. **Your project will be evaluated not just on the code used to complete the tasks outlined, but also your communication about your observations and conclusions at each stage.**"
   ]
  },
  {
   "cell_type": "code",
   "execution_count": 1,
   "metadata": {},
   "outputs": [],
   "source": [
    "# import libraries here; add more as necessary\n",
    "import numpy as np\n",
    "import pandas as pd\n",
    "import matplotlib.pyplot as plt\n",
    "import seaborn as sns\n",
    "\n",
    "# magic word for producing visualizations in notebook\n",
    "%matplotlib inline"
   ]
  },
  {
   "cell_type": "markdown",
   "metadata": {},
   "source": [
    "### Step 0: Load the Data\n",
    "\n",
    "There are four files associated with this project (not including this one):\n",
    "\n",
    "- `Udacity_AZDIAS_Subset.csv`: Demographics data for the general population of Germany; 891211 persons (rows) x 85 features (columns).\n",
    "- `Udacity_CUSTOMERS_Subset.csv`: Demographics data for customers of a mail-order company; 191652 persons (rows) x 85 features (columns).\n",
    "- `Data_Dictionary.md`: Detailed information file about the features in the provided datasets.\n",
    "- `AZDIAS_Feature_Summary.csv`: Summary of feature attributes for demographics data; 85 features (rows) x 4 columns\n",
    "\n",
    "Each row of the demographics files represents a single person, but also includes information outside of individuals, including information about their household, building, and neighborhood. You will use this information to cluster the general population into groups with similar demographic properties. Then, you will see how the people in the customers dataset fit into those created clusters. The hope here is that certain clusters are over-represented in the customers data, as compared to the general population; those over-represented clusters will be assumed to be part of the core userbase. This information can then be used for further applications, such as targeting for a marketing campaign.\n",
    "\n",
    "To start off with, load in the demographics data for the general population into a pandas DataFrame, and do the same for the feature attributes summary. Note for all of the `.csv` data files in this project: they're semicolon (`;`) delimited, so you'll need an additional argument in your [`read_csv()`](https://pandas.pydata.org/pandas-docs/stable/generated/pandas.read_csv.html) call to read in the data properly. Also, considering the size of the main dataset, it may take some time for it to load completely.\n",
    "\n",
    "Once the dataset is loaded, it's recommended that you take a little bit of time just browsing the general structure of the dataset and feature summary file. You'll be getting deep into the innards of the cleaning in the first major step of the project, so gaining some general familiarity can help you get your bearings."
   ]
  },
  {
   "cell_type": "code",
   "execution_count": 2,
   "metadata": {},
   "outputs": [],
   "source": [
    "# Load in the general demographics data.\n",
    "azdias = pd.read_csv(\"Udacity_AZDIAS_Subset.csv\", sep=\";\")\n",
    "\n",
    "# Load in the feature summary file.\n",
    "feat_info = pd.read_csv(\"AZDIAS_Feature_Summary.csv\", sep=\";\")"
   ]
  },
  {
   "cell_type": "code",
   "execution_count": 3,
   "metadata": {},
   "outputs": [
    {
     "name": "stdout",
     "output_type": "stream",
     "text": [
      "(Row, Column) : (891221, 85) \n"
     ]
    },
    {
     "data": {
      "text/html": [
       "<div>\n",
       "<style scoped>\n",
       "    .dataframe tbody tr th:only-of-type {\n",
       "        vertical-align: middle;\n",
       "    }\n",
       "\n",
       "    .dataframe tbody tr th {\n",
       "        vertical-align: top;\n",
       "    }\n",
       "\n",
       "    .dataframe thead th {\n",
       "        text-align: right;\n",
       "    }\n",
       "</style>\n",
       "<table border=\"1\" class=\"dataframe\">\n",
       "  <thead>\n",
       "    <tr style=\"text-align: right;\">\n",
       "      <th></th>\n",
       "      <th>AGER_TYP</th>\n",
       "      <th>ALTERSKATEGORIE_GROB</th>\n",
       "      <th>ANREDE_KZ</th>\n",
       "      <th>CJT_GESAMTTYP</th>\n",
       "      <th>FINANZ_MINIMALIST</th>\n",
       "      <th>FINANZ_SPARER</th>\n",
       "      <th>FINANZ_VORSORGER</th>\n",
       "      <th>FINANZ_ANLEGER</th>\n",
       "      <th>FINANZ_UNAUFFAELLIGER</th>\n",
       "      <th>FINANZ_HAUSBAUER</th>\n",
       "      <th>...</th>\n",
       "      <th>PLZ8_ANTG1</th>\n",
       "      <th>PLZ8_ANTG2</th>\n",
       "      <th>PLZ8_ANTG3</th>\n",
       "      <th>PLZ8_ANTG4</th>\n",
       "      <th>PLZ8_BAUMAX</th>\n",
       "      <th>PLZ8_HHZ</th>\n",
       "      <th>PLZ8_GBZ</th>\n",
       "      <th>ARBEIT</th>\n",
       "      <th>ORTSGR_KLS9</th>\n",
       "      <th>RELAT_AB</th>\n",
       "    </tr>\n",
       "  </thead>\n",
       "  <tbody>\n",
       "    <tr>\n",
       "      <th>0</th>\n",
       "      <td>-1</td>\n",
       "      <td>2</td>\n",
       "      <td>1</td>\n",
       "      <td>2.0</td>\n",
       "      <td>3</td>\n",
       "      <td>4</td>\n",
       "      <td>3</td>\n",
       "      <td>5</td>\n",
       "      <td>5</td>\n",
       "      <td>3</td>\n",
       "      <td>...</td>\n",
       "      <td>NaN</td>\n",
       "      <td>NaN</td>\n",
       "      <td>NaN</td>\n",
       "      <td>NaN</td>\n",
       "      <td>NaN</td>\n",
       "      <td>NaN</td>\n",
       "      <td>NaN</td>\n",
       "      <td>NaN</td>\n",
       "      <td>NaN</td>\n",
       "      <td>NaN</td>\n",
       "    </tr>\n",
       "    <tr>\n",
       "      <th>1</th>\n",
       "      <td>-1</td>\n",
       "      <td>1</td>\n",
       "      <td>2</td>\n",
       "      <td>5.0</td>\n",
       "      <td>1</td>\n",
       "      <td>5</td>\n",
       "      <td>2</td>\n",
       "      <td>5</td>\n",
       "      <td>4</td>\n",
       "      <td>5</td>\n",
       "      <td>...</td>\n",
       "      <td>2.0</td>\n",
       "      <td>3.0</td>\n",
       "      <td>2.0</td>\n",
       "      <td>1.0</td>\n",
       "      <td>1.0</td>\n",
       "      <td>5.0</td>\n",
       "      <td>4.0</td>\n",
       "      <td>3.0</td>\n",
       "      <td>5.0</td>\n",
       "      <td>4.0</td>\n",
       "    </tr>\n",
       "    <tr>\n",
       "      <th>2</th>\n",
       "      <td>-1</td>\n",
       "      <td>3</td>\n",
       "      <td>2</td>\n",
       "      <td>3.0</td>\n",
       "      <td>1</td>\n",
       "      <td>4</td>\n",
       "      <td>1</td>\n",
       "      <td>2</td>\n",
       "      <td>3</td>\n",
       "      <td>5</td>\n",
       "      <td>...</td>\n",
       "      <td>3.0</td>\n",
       "      <td>3.0</td>\n",
       "      <td>1.0</td>\n",
       "      <td>0.0</td>\n",
       "      <td>1.0</td>\n",
       "      <td>4.0</td>\n",
       "      <td>4.0</td>\n",
       "      <td>3.0</td>\n",
       "      <td>5.0</td>\n",
       "      <td>2.0</td>\n",
       "    </tr>\n",
       "    <tr>\n",
       "      <th>3</th>\n",
       "      <td>2</td>\n",
       "      <td>4</td>\n",
       "      <td>2</td>\n",
       "      <td>2.0</td>\n",
       "      <td>4</td>\n",
       "      <td>2</td>\n",
       "      <td>5</td>\n",
       "      <td>2</td>\n",
       "      <td>1</td>\n",
       "      <td>2</td>\n",
       "      <td>...</td>\n",
       "      <td>2.0</td>\n",
       "      <td>2.0</td>\n",
       "      <td>2.0</td>\n",
       "      <td>0.0</td>\n",
       "      <td>1.0</td>\n",
       "      <td>3.0</td>\n",
       "      <td>4.0</td>\n",
       "      <td>2.0</td>\n",
       "      <td>3.0</td>\n",
       "      <td>3.0</td>\n",
       "    </tr>\n",
       "    <tr>\n",
       "      <th>4</th>\n",
       "      <td>-1</td>\n",
       "      <td>3</td>\n",
       "      <td>1</td>\n",
       "      <td>5.0</td>\n",
       "      <td>4</td>\n",
       "      <td>3</td>\n",
       "      <td>4</td>\n",
       "      <td>1</td>\n",
       "      <td>3</td>\n",
       "      <td>2</td>\n",
       "      <td>...</td>\n",
       "      <td>2.0</td>\n",
       "      <td>4.0</td>\n",
       "      <td>2.0</td>\n",
       "      <td>1.0</td>\n",
       "      <td>2.0</td>\n",
       "      <td>3.0</td>\n",
       "      <td>3.0</td>\n",
       "      <td>4.0</td>\n",
       "      <td>6.0</td>\n",
       "      <td>5.0</td>\n",
       "    </tr>\n",
       "  </tbody>\n",
       "</table>\n",
       "<p>5 rows × 85 columns</p>\n",
       "</div>"
      ],
      "text/plain": [
       "   AGER_TYP  ALTERSKATEGORIE_GROB  ANREDE_KZ  CJT_GESAMTTYP  \\\n",
       "0        -1                     2          1            2.0   \n",
       "1        -1                     1          2            5.0   \n",
       "2        -1                     3          2            3.0   \n",
       "3         2                     4          2            2.0   \n",
       "4        -1                     3          1            5.0   \n",
       "\n",
       "   FINANZ_MINIMALIST  FINANZ_SPARER  FINANZ_VORSORGER  FINANZ_ANLEGER  \\\n",
       "0                  3              4                 3               5   \n",
       "1                  1              5                 2               5   \n",
       "2                  1              4                 1               2   \n",
       "3                  4              2                 5               2   \n",
       "4                  4              3                 4               1   \n",
       "\n",
       "   FINANZ_UNAUFFAELLIGER  FINANZ_HAUSBAUER  ...  PLZ8_ANTG1  PLZ8_ANTG2  \\\n",
       "0                      5                 3  ...         NaN         NaN   \n",
       "1                      4                 5  ...         2.0         3.0   \n",
       "2                      3                 5  ...         3.0         3.0   \n",
       "3                      1                 2  ...         2.0         2.0   \n",
       "4                      3                 2  ...         2.0         4.0   \n",
       "\n",
       "   PLZ8_ANTG3  PLZ8_ANTG4  PLZ8_BAUMAX  PLZ8_HHZ  PLZ8_GBZ  ARBEIT  \\\n",
       "0         NaN         NaN          NaN       NaN       NaN     NaN   \n",
       "1         2.0         1.0          1.0       5.0       4.0     3.0   \n",
       "2         1.0         0.0          1.0       4.0       4.0     3.0   \n",
       "3         2.0         0.0          1.0       3.0       4.0     2.0   \n",
       "4         2.0         1.0          2.0       3.0       3.0     4.0   \n",
       "\n",
       "   ORTSGR_KLS9  RELAT_AB  \n",
       "0          NaN       NaN  \n",
       "1          5.0       4.0  \n",
       "2          5.0       2.0  \n",
       "3          3.0       3.0  \n",
       "4          6.0       5.0  \n",
       "\n",
       "[5 rows x 85 columns]"
      ]
     },
     "execution_count": 3,
     "metadata": {},
     "output_type": "execute_result"
    }
   ],
   "source": [
    "# Check the structure of the data after it's loaded (e.g. print the number of\n",
    "# rows and columns, print the first few rows).\n",
    "print (\"(Row, Column) : %s \" % str(azdias.shape))\n",
    "azdias.head()"
   ]
  },
  {
   "cell_type": "code",
   "execution_count": 4,
   "metadata": {},
   "outputs": [
    {
     "data": {
      "text/html": [
       "<div>\n",
       "<style scoped>\n",
       "    .dataframe tbody tr th:only-of-type {\n",
       "        vertical-align: middle;\n",
       "    }\n",
       "\n",
       "    .dataframe tbody tr th {\n",
       "        vertical-align: top;\n",
       "    }\n",
       "\n",
       "    .dataframe thead th {\n",
       "        text-align: right;\n",
       "    }\n",
       "</style>\n",
       "<table border=\"1\" class=\"dataframe\">\n",
       "  <thead>\n",
       "    <tr style=\"text-align: right;\">\n",
       "      <th></th>\n",
       "      <th>attribute</th>\n",
       "      <th>information_level</th>\n",
       "      <th>type</th>\n",
       "      <th>missing_or_unknown</th>\n",
       "    </tr>\n",
       "  </thead>\n",
       "  <tbody>\n",
       "    <tr>\n",
       "      <th>0</th>\n",
       "      <td>AGER_TYP</td>\n",
       "      <td>person</td>\n",
       "      <td>categorical</td>\n",
       "      <td>[-1,0]</td>\n",
       "    </tr>\n",
       "    <tr>\n",
       "      <th>1</th>\n",
       "      <td>ALTERSKATEGORIE_GROB</td>\n",
       "      <td>person</td>\n",
       "      <td>ordinal</td>\n",
       "      <td>[-1,0,9]</td>\n",
       "    </tr>\n",
       "    <tr>\n",
       "      <th>2</th>\n",
       "      <td>ANREDE_KZ</td>\n",
       "      <td>person</td>\n",
       "      <td>categorical</td>\n",
       "      <td>[-1,0]</td>\n",
       "    </tr>\n",
       "    <tr>\n",
       "      <th>3</th>\n",
       "      <td>CJT_GESAMTTYP</td>\n",
       "      <td>person</td>\n",
       "      <td>categorical</td>\n",
       "      <td>[0]</td>\n",
       "    </tr>\n",
       "    <tr>\n",
       "      <th>4</th>\n",
       "      <td>FINANZ_MINIMALIST</td>\n",
       "      <td>person</td>\n",
       "      <td>ordinal</td>\n",
       "      <td>[-1]</td>\n",
       "    </tr>\n",
       "  </tbody>\n",
       "</table>\n",
       "</div>"
      ],
      "text/plain": [
       "              attribute information_level         type missing_or_unknown\n",
       "0              AGER_TYP            person  categorical             [-1,0]\n",
       "1  ALTERSKATEGORIE_GROB            person      ordinal           [-1,0,9]\n",
       "2             ANREDE_KZ            person  categorical             [-1,0]\n",
       "3         CJT_GESAMTTYP            person  categorical                [0]\n",
       "4     FINANZ_MINIMALIST            person      ordinal               [-1]"
      ]
     },
     "execution_count": 4,
     "metadata": {},
     "output_type": "execute_result"
    }
   ],
   "source": [
    "feat_info.head()"
   ]
  },
  {
   "cell_type": "markdown",
   "metadata": {},
   "source": [
    "> **Tip**: Add additional cells to keep everything in reasonably-sized chunks! Keyboard shortcut `esc --> a` (press escape to enter command mode, then press the 'A' key) adds a new cell before the active cell, and `esc --> b` adds a new cell after the active cell. If you need to convert an active cell to a markdown cell, use `esc --> m` and to convert to a code cell, use `esc --> y`. \n",
    "\n",
    "## Step 1: Preprocessing\n",
    "\n",
    "### Step 1.1: Assess Missing Data\n",
    "\n",
    "The feature summary file contains a summary of properties for each demographics data column. You will use this file to help you make cleaning decisions during this stage of the project. First of all, you should assess the demographics data in terms of missing data. Pay attention to the following points as you perform your analysis, and take notes on what you observe. Make sure that you fill in the **Discussion** cell with your findings and decisions at the end of each step that has one!\n",
    "\n",
    "#### Step 1.1.1: Convert Missing Value Codes to NaNs\n",
    "The fourth column of the feature attributes summary (loaded in above as `feat_info`) documents the codes from the data dictionary that indicate missing or unknown data. While the file encodes this as a list (e.g. `[-1,0]`), this will get read in as a string object. You'll need to do a little bit of parsing to make use of it to identify and clean the data. Convert data that matches a 'missing' or 'unknown' value code into a numpy NaN value. You might want to see how much data takes on a 'missing' or 'unknown' code, and how much data is naturally missing, as a point of interest.\n",
    "\n",
    "**As one more reminder, you are encouraged to add additional cells to break up your analysis into manageable chunks.**"
   ]
  },
  {
   "cell_type": "code",
   "execution_count": 5,
   "metadata": {},
   "outputs": [],
   "source": [
    "# Identify missing or unknown data values and convert them to NaNs.\n",
    "azdias_nan_treated = azdias.copy()\n",
    "\n",
    "for col in azdias_nan_treated:\n",
    "    #get the dict for NaN\n",
    "    nan_replacement_val = feat_info.loc[feat_info['attribute'] == col, 'missing_or_unknown'].values[0]\n",
    "    try:\n",
    "        nan_replacer_list = pd.eval(nan_replacement_val)\n",
    "    except:\n",
    "        nan_replacer_list = nan_replacement_val.replace(\"[\", \"\").replace(\"]\", \"\").split(\",\")\n",
    "        \n",
    "    if len(nan_replacer_list) > 0:\n",
    "        azdias_nan_treated[col].replace(to_replace=nan_replacer_list, value=np.nan, \\\n",
    "                 inplace=True)        \n",
    "    \n",
    "    #check if all necessary values had been mapped to NaN\n",
    "    assert (len(azdias_nan_treated[azdias_nan_treated[col].isin(nan_replacer_list)]) == 0), \"Some values not mapped to NaN properly!\"\n"
   ]
  },
  {
   "cell_type": "markdown",
   "metadata": {},
   "source": [
    "#### Step 1.1.2: Assess Missing Data in Each Column\n",
    "\n",
    "How much missing data is present in each column? There are a few columns that are outliers in terms of the proportion of values that are missing. You will want to use matplotlib's [`hist()`](https://matplotlib.org/api/_as_gen/matplotlib.pyplot.hist.html) function to visualize the distribution of missing value counts to find these columns. Identify and document these columns. While some of these columns might have justifications for keeping or re-encoding the data, for this project you should just remove them from the dataframe. (Feel free to make remarks about these outlier columns in the discussion, however!)\n",
    "\n",
    "For the remaining features, are there any patterns in which columns have, or share, missing data?"
   ]
  },
  {
   "cell_type": "code",
   "execution_count": 6,
   "metadata": {},
   "outputs": [
    {
     "data": {
      "text/html": [
       "<div>\n",
       "<style scoped>\n",
       "    .dataframe tbody tr th:only-of-type {\n",
       "        vertical-align: middle;\n",
       "    }\n",
       "\n",
       "    .dataframe tbody tr th {\n",
       "        vertical-align: top;\n",
       "    }\n",
       "\n",
       "    .dataframe thead th {\n",
       "        text-align: right;\n",
       "    }\n",
       "</style>\n",
       "<table border=\"1\" class=\"dataframe\">\n",
       "  <thead>\n",
       "    <tr style=\"text-align: right;\">\n",
       "      <th></th>\n",
       "      <th>feature</th>\n",
       "      <th>nan_ratio</th>\n",
       "    </tr>\n",
       "  </thead>\n",
       "  <tbody>\n",
       "    <tr>\n",
       "      <th>0</th>\n",
       "      <td>TITEL_KZ</td>\n",
       "      <td>0.997576</td>\n",
       "    </tr>\n",
       "    <tr>\n",
       "      <th>1</th>\n",
       "      <td>AGER_TYP</td>\n",
       "      <td>0.769554</td>\n",
       "    </tr>\n",
       "    <tr>\n",
       "      <th>2</th>\n",
       "      <td>KK_KUNDENTYP</td>\n",
       "      <td>0.655967</td>\n",
       "    </tr>\n",
       "    <tr>\n",
       "      <th>3</th>\n",
       "      <td>KBA05_BAUMAX</td>\n",
       "      <td>0.534687</td>\n",
       "    </tr>\n",
       "    <tr>\n",
       "      <th>4</th>\n",
       "      <td>GEBURTSJAHR</td>\n",
       "      <td>0.440203</td>\n",
       "    </tr>\n",
       "    <tr>\n",
       "      <th>5</th>\n",
       "      <td>ALTER_HH</td>\n",
       "      <td>0.348137</td>\n",
       "    </tr>\n",
       "    <tr>\n",
       "      <th>6</th>\n",
       "      <td>REGIOTYP</td>\n",
       "      <td>0.177357</td>\n",
       "    </tr>\n",
       "    <tr>\n",
       "      <th>7</th>\n",
       "      <td>KKK</td>\n",
       "      <td>0.177357</td>\n",
       "    </tr>\n",
       "    <tr>\n",
       "      <th>8</th>\n",
       "      <td>W_KEIT_KIND_HH</td>\n",
       "      <td>0.166051</td>\n",
       "    </tr>\n",
       "    <tr>\n",
       "      <th>9</th>\n",
       "      <td>KBA05_ANTG4</td>\n",
       "      <td>0.149597</td>\n",
       "    </tr>\n",
       "  </tbody>\n",
       "</table>\n",
       "</div>"
      ],
      "text/plain": [
       "          feature  nan_ratio\n",
       "0        TITEL_KZ   0.997576\n",
       "1        AGER_TYP   0.769554\n",
       "2    KK_KUNDENTYP   0.655967\n",
       "3    KBA05_BAUMAX   0.534687\n",
       "4     GEBURTSJAHR   0.440203\n",
       "5        ALTER_HH   0.348137\n",
       "6        REGIOTYP   0.177357\n",
       "7             KKK   0.177357\n",
       "8  W_KEIT_KIND_HH   0.166051\n",
       "9     KBA05_ANTG4   0.149597"
      ]
     },
     "execution_count": 6,
     "metadata": {},
     "output_type": "execute_result"
    }
   ],
   "source": [
    "# Perform an assessment of how much missing data there is in each column of the\n",
    "# dataset.\n",
    "\n",
    "# calc ratio of NaN for each feature\n",
    "num_rows_azdias = azdias_nan_treated.shape[0]\n",
    "azdias_nan_ratio = azdias_nan_treated.isna().sum()/num_rows_azdias\n",
    "azdias_nan_ratio_sorted = azdias_nan_ratio.sort_values(ascending=False)\n",
    "df_azdias_nan = azdias_nan_ratio_sorted.reset_index()\n",
    "df_azdias_nan = df_azdias_nan.rename(columns={'index': 'feature', 0: 'nan_ratio'})\n",
    "\n",
    "#display the top 10 columns with the highest number of NaN data in descending order\n",
    "df_azdias_nan.head(n=10)"
   ]
  },
  {
   "cell_type": "code",
   "execution_count": 7,
   "metadata": {},
   "outputs": [
    {
     "data": {
      "text/plain": [
       "Text(0, 0.5, 'Number of columns')"
      ]
     },
     "execution_count": 7,
     "metadata": {},
     "output_type": "execute_result"
    },
    {
     "data": {
      "image/png": "[encoded data removed]",
      "text/plain": [
       "<Figure size 432x288 with 1 Axes>"
      ]
     },
     "metadata": {
      "needs_background": "light"
     },
     "output_type": "display_data"
    }
   ],
   "source": [
    "# Investigate patterns in the amount of missing data in each column.\n",
    "\n",
    "plt.hist(x=df_azdias_nan['nan_ratio'])\n",
    "plt.xlabel('Ratio of missing data within the column')\n",
    "plt.ylabel('Number of columns')"
   ]
  },
  {
   "cell_type": "code",
   "execution_count": 8,
   "metadata": {},
   "outputs": [
    {
     "name": "stdout",
     "output_type": "stream",
     "text": [
      "Mean of NaN ratio : 0.110541\n",
      "Std dev of NaN ratio : 0.164498\n",
      "Outlier threshold : 0.275040\n"
     ]
    }
   ],
   "source": [
    "#calc mean and std dev of NaN ratio\n",
    "print (\"Mean of NaN ratio : %f\" % df_azdias_nan['nan_ratio'].mean())\n",
    "print (\"Std dev of NaN ratio : %f\" % df_azdias_nan['nan_ratio'].std())\n",
    "#use 1 standard deviation as a cut-off point\n",
    "outlier_threshold = df_azdias_nan['nan_ratio'].mean() + df_azdias_nan['nan_ratio'].std()\n",
    "print (\"Outlier threshold : %f\" % outlier_threshold)"
   ]
  },
  {
   "cell_type": "markdown",
   "metadata": {},
   "source": [
    "From the histogram above, we can see most of the columns have a ratio of NaN of less than 0.2. We can say that outliers are columns with NaN ratio **above 0.275040**."
   ]
  },
  {
   "cell_type": "code",
   "execution_count": 9,
   "metadata": {},
   "outputs": [
    {
     "name": "stdout",
     "output_type": "stream",
     "text": [
      "Number of outlier columns = 6\n",
      "Percentage of outlier columns = 7.058824 %\n"
     ]
    }
   ],
   "source": [
    "num_outlier_azdias = len(df_azdias_nan[df_azdias_nan['nan_ratio'] > outlier_threshold])\n",
    "\n",
    "print (\"Number of outlier columns = %i\" % (num_outlier_azdias))\n",
    "print (\"Percentage of outlier columns = %f %%\" % (100 * num_outlier_azdias / len(df_azdias_nan) ))"
   ]
  },
  {
   "cell_type": "code",
   "execution_count": 10,
   "metadata": {},
   "outputs": [
    {
     "name": "stdout",
     "output_type": "stream",
     "text": [
      "The columns to be dropped are:\n",
      "0        TITEL_KZ\n",
      "1        AGER_TYP\n",
      "2    KK_KUNDENTYP\n",
      "3    KBA05_BAUMAX\n",
      "4     GEBURTSJAHR\n",
      "5        ALTER_HH\n",
      "Name: feature, dtype: object\n"
     ]
    }
   ],
   "source": [
    "# Remove the outlier columns from the dataset. (You'll perform other data\n",
    "# engineering tasks such as re-encoding and imputation later.)\n",
    "\n",
    "features_to_remove = df_azdias_nan.loc[df_azdias_nan['nan_ratio'] > outlier_threshold, 'feature']\n",
    "features_to_keep = df_azdias_nan.loc[df_azdias_nan['nan_ratio'] <= outlier_threshold, 'feature']\n",
    "\n",
    "print (\"The columns to be dropped are:\")\n",
    "print (features_to_remove)"
   ]
  },
  {
   "cell_type": "code",
   "execution_count": 11,
   "metadata": {},
   "outputs": [
    {
     "data": {
      "text/html": [
       "<div>\n",
       "<style scoped>\n",
       "    .dataframe tbody tr th:only-of-type {\n",
       "        vertical-align: middle;\n",
       "    }\n",
       "\n",
       "    .dataframe tbody tr th {\n",
       "        vertical-align: top;\n",
       "    }\n",
       "\n",
       "    .dataframe thead th {\n",
       "        text-align: right;\n",
       "    }\n",
       "</style>\n",
       "<table border=\"1\" class=\"dataframe\">\n",
       "  <thead>\n",
       "    <tr style=\"text-align: right;\">\n",
       "      <th></th>\n",
       "      <th>TITEL_KZ</th>\n",
       "      <th>AGER_TYP</th>\n",
       "      <th>KK_KUNDENTYP</th>\n",
       "      <th>KBA05_BAUMAX</th>\n",
       "      <th>GEBURTSJAHR</th>\n",
       "      <th>ALTER_HH</th>\n",
       "    </tr>\n",
       "  </thead>\n",
       "  <tbody>\n",
       "    <tr>\n",
       "      <th>0</th>\n",
       "      <td>NaN</td>\n",
       "      <td>NaN</td>\n",
       "      <td>NaN</td>\n",
       "      <td>NaN</td>\n",
       "      <td>NaN</td>\n",
       "      <td>NaN</td>\n",
       "    </tr>\n",
       "    <tr>\n",
       "      <th>1</th>\n",
       "      <td>NaN</td>\n",
       "      <td>NaN</td>\n",
       "      <td>NaN</td>\n",
       "      <td>5.0</td>\n",
       "      <td>1996.0</td>\n",
       "      <td>NaN</td>\n",
       "    </tr>\n",
       "    <tr>\n",
       "      <th>2</th>\n",
       "      <td>NaN</td>\n",
       "      <td>NaN</td>\n",
       "      <td>NaN</td>\n",
       "      <td>NaN</td>\n",
       "      <td>1979.0</td>\n",
       "      <td>17.0</td>\n",
       "    </tr>\n",
       "    <tr>\n",
       "      <th>3</th>\n",
       "      <td>NaN</td>\n",
       "      <td>2.0</td>\n",
       "      <td>NaN</td>\n",
       "      <td>1.0</td>\n",
       "      <td>1957.0</td>\n",
       "      <td>13.0</td>\n",
       "    </tr>\n",
       "    <tr>\n",
       "      <th>4</th>\n",
       "      <td>NaN</td>\n",
       "      <td>NaN</td>\n",
       "      <td>1.0</td>\n",
       "      <td>NaN</td>\n",
       "      <td>1963.0</td>\n",
       "      <td>20.0</td>\n",
       "    </tr>\n",
       "    <tr>\n",
       "      <th>5</th>\n",
       "      <td>NaN</td>\n",
       "      <td>3.0</td>\n",
       "      <td>3.0</td>\n",
       "      <td>NaN</td>\n",
       "      <td>1943.0</td>\n",
       "      <td>10.0</td>\n",
       "    </tr>\n",
       "    <tr>\n",
       "      <th>6</th>\n",
       "      <td>NaN</td>\n",
       "      <td>NaN</td>\n",
       "      <td>NaN</td>\n",
       "      <td>1.0</td>\n",
       "      <td>NaN</td>\n",
       "      <td>NaN</td>\n",
       "    </tr>\n",
       "    <tr>\n",
       "      <th>7</th>\n",
       "      <td>NaN</td>\n",
       "      <td>NaN</td>\n",
       "      <td>NaN</td>\n",
       "      <td>NaN</td>\n",
       "      <td>1964.0</td>\n",
       "      <td>14.0</td>\n",
       "    </tr>\n",
       "    <tr>\n",
       "      <th>8</th>\n",
       "      <td>NaN</td>\n",
       "      <td>NaN</td>\n",
       "      <td>NaN</td>\n",
       "      <td>NaN</td>\n",
       "      <td>1974.0</td>\n",
       "      <td>16.0</td>\n",
       "    </tr>\n",
       "    <tr>\n",
       "      <th>9</th>\n",
       "      <td>NaN</td>\n",
       "      <td>NaN</td>\n",
       "      <td>6.0</td>\n",
       "      <td>NaN</td>\n",
       "      <td>1975.0</td>\n",
       "      <td>17.0</td>\n",
       "    </tr>\n",
       "  </tbody>\n",
       "</table>\n",
       "</div>"
      ],
      "text/plain": [
       "   TITEL_KZ  AGER_TYP  KK_KUNDENTYP  KBA05_BAUMAX  GEBURTSJAHR  ALTER_HH\n",
       "0       NaN       NaN           NaN           NaN          NaN       NaN\n",
       "1       NaN       NaN           NaN           5.0       1996.0       NaN\n",
       "2       NaN       NaN           NaN           NaN       1979.0      17.0\n",
       "3       NaN       2.0           NaN           1.0       1957.0      13.0\n",
       "4       NaN       NaN           1.0           NaN       1963.0      20.0\n",
       "5       NaN       3.0           3.0           NaN       1943.0      10.0\n",
       "6       NaN       NaN           NaN           1.0          NaN       NaN\n",
       "7       NaN       NaN           NaN           NaN       1964.0      14.0\n",
       "8       NaN       NaN           NaN           NaN       1974.0      16.0\n",
       "9       NaN       NaN           6.0           NaN       1975.0      17.0"
      ]
     },
     "execution_count": 11,
     "metadata": {},
     "output_type": "execute_result"
    }
   ],
   "source": [
    "#sanity check to see if indeed these columns have a lot of NaN\n",
    "azdias_nan_treated[features_to_remove].head(n=10)"
   ]
  },
  {
   "cell_type": "code",
   "execution_count": 12,
   "metadata": {},
   "outputs": [
    {
     "data": {
      "text/html": [
       "<div>\n",
       "<style scoped>\n",
       "    .dataframe tbody tr th:only-of-type {\n",
       "        vertical-align: middle;\n",
       "    }\n",
       "\n",
       "    .dataframe tbody tr th {\n",
       "        vertical-align: top;\n",
       "    }\n",
       "\n",
       "    .dataframe thead th {\n",
       "        text-align: right;\n",
       "    }\n",
       "</style>\n",
       "<table border=\"1\" class=\"dataframe\">\n",
       "  <thead>\n",
       "    <tr style=\"text-align: right;\">\n",
       "      <th></th>\n",
       "      <th>REGIOTYP</th>\n",
       "      <th>KKK</th>\n",
       "      <th>W_KEIT_KIND_HH</th>\n",
       "      <th>KBA05_ANTG4</th>\n",
       "      <th>KBA05_GBZ</th>\n",
       "      <th>MOBI_REGIO</th>\n",
       "      <th>KBA05_ANTG1</th>\n",
       "      <th>KBA05_ANTG2</th>\n",
       "      <th>KBA05_ANTG3</th>\n",
       "      <th>PLZ8_GBZ</th>\n",
       "      <th>...</th>\n",
       "      <th>SEMIO_LUST</th>\n",
       "      <th>SEMIO_ERL</th>\n",
       "      <th>SEMIO_KULT</th>\n",
       "      <th>SEMIO_RAT</th>\n",
       "      <th>SEMIO_KRIT</th>\n",
       "      <th>SEMIO_DOM</th>\n",
       "      <th>SEMIO_KAEM</th>\n",
       "      <th>SEMIO_PFLICHT</th>\n",
       "      <th>SEMIO_TRADV</th>\n",
       "      <th>ZABEOTYP</th>\n",
       "    </tr>\n",
       "  </thead>\n",
       "  <tbody>\n",
       "    <tr>\n",
       "      <th>0</th>\n",
       "      <td>NaN</td>\n",
       "      <td>NaN</td>\n",
       "      <td>NaN</td>\n",
       "      <td>NaN</td>\n",
       "      <td>NaN</td>\n",
       "      <td>NaN</td>\n",
       "      <td>NaN</td>\n",
       "      <td>NaN</td>\n",
       "      <td>NaN</td>\n",
       "      <td>NaN</td>\n",
       "      <td>...</td>\n",
       "      <td>5</td>\n",
       "      <td>3</td>\n",
       "      <td>3</td>\n",
       "      <td>4</td>\n",
       "      <td>7</td>\n",
       "      <td>6</td>\n",
       "      <td>6</td>\n",
       "      <td>5</td>\n",
       "      <td>3</td>\n",
       "      <td>3</td>\n",
       "    </tr>\n",
       "    <tr>\n",
       "      <th>1</th>\n",
       "      <td>3.0</td>\n",
       "      <td>2.0</td>\n",
       "      <td>3.0</td>\n",
       "      <td>2.0</td>\n",
       "      <td>1.0</td>\n",
       "      <td>1.0</td>\n",
       "      <td>0.0</td>\n",
       "      <td>0.0</td>\n",
       "      <td>0.0</td>\n",
       "      <td>4.0</td>\n",
       "      <td>...</td>\n",
       "      <td>2</td>\n",
       "      <td>2</td>\n",
       "      <td>3</td>\n",
       "      <td>6</td>\n",
       "      <td>4</td>\n",
       "      <td>7</td>\n",
       "      <td>4</td>\n",
       "      <td>7</td>\n",
       "      <td>6</td>\n",
       "      <td>5</td>\n",
       "    </tr>\n",
       "    <tr>\n",
       "      <th>2</th>\n",
       "      <td>2.0</td>\n",
       "      <td>2.0</td>\n",
       "      <td>3.0</td>\n",
       "      <td>0.0</td>\n",
       "      <td>3.0</td>\n",
       "      <td>3.0</td>\n",
       "      <td>1.0</td>\n",
       "      <td>3.0</td>\n",
       "      <td>1.0</td>\n",
       "      <td>4.0</td>\n",
       "      <td>...</td>\n",
       "      <td>4</td>\n",
       "      <td>6</td>\n",
       "      <td>3</td>\n",
       "      <td>4</td>\n",
       "      <td>7</td>\n",
       "      <td>7</td>\n",
       "      <td>7</td>\n",
       "      <td>3</td>\n",
       "      <td>3</td>\n",
       "      <td>5</td>\n",
       "    </tr>\n",
       "    <tr>\n",
       "      <th>3</th>\n",
       "      <td>NaN</td>\n",
       "      <td>NaN</td>\n",
       "      <td>NaN</td>\n",
       "      <td>0.0</td>\n",
       "      <td>4.0</td>\n",
       "      <td>4.0</td>\n",
       "      <td>4.0</td>\n",
       "      <td>1.0</td>\n",
       "      <td>0.0</td>\n",
       "      <td>4.0</td>\n",
       "      <td>...</td>\n",
       "      <td>4</td>\n",
       "      <td>7</td>\n",
       "      <td>4</td>\n",
       "      <td>3</td>\n",
       "      <td>4</td>\n",
       "      <td>4</td>\n",
       "      <td>5</td>\n",
       "      <td>4</td>\n",
       "      <td>4</td>\n",
       "      <td>3</td>\n",
       "    </tr>\n",
       "    <tr>\n",
       "      <th>4</th>\n",
       "      <td>5.0</td>\n",
       "      <td>3.0</td>\n",
       "      <td>2.0</td>\n",
       "      <td>0.0</td>\n",
       "      <td>3.0</td>\n",
       "      <td>3.0</td>\n",
       "      <td>1.0</td>\n",
       "      <td>4.0</td>\n",
       "      <td>1.0</td>\n",
       "      <td>3.0</td>\n",
       "      <td>...</td>\n",
       "      <td>4</td>\n",
       "      <td>4</td>\n",
       "      <td>6</td>\n",
       "      <td>2</td>\n",
       "      <td>3</td>\n",
       "      <td>2</td>\n",
       "      <td>2</td>\n",
       "      <td>4</td>\n",
       "      <td>2</td>\n",
       "      <td>4</td>\n",
       "    </tr>\n",
       "    <tr>\n",
       "      <th>5</th>\n",
       "      <td>5.0</td>\n",
       "      <td>4.0</td>\n",
       "      <td>6.0</td>\n",
       "      <td>0.0</td>\n",
       "      <td>4.0</td>\n",
       "      <td>4.0</td>\n",
       "      <td>2.0</td>\n",
       "      <td>2.0</td>\n",
       "      <td>0.0</td>\n",
       "      <td>5.0</td>\n",
       "      <td>...</td>\n",
       "      <td>2</td>\n",
       "      <td>2</td>\n",
       "      <td>5</td>\n",
       "      <td>7</td>\n",
       "      <td>4</td>\n",
       "      <td>4</td>\n",
       "      <td>4</td>\n",
       "      <td>7</td>\n",
       "      <td>6</td>\n",
       "      <td>4</td>\n",
       "    </tr>\n",
       "    <tr>\n",
       "      <th>6</th>\n",
       "      <td>5.0</td>\n",
       "      <td>3.0</td>\n",
       "      <td>3.0</td>\n",
       "      <td>0.0</td>\n",
       "      <td>3.0</td>\n",
       "      <td>5.0</td>\n",
       "      <td>3.0</td>\n",
       "      <td>2.0</td>\n",
       "      <td>0.0</td>\n",
       "      <td>5.0</td>\n",
       "      <td>...</td>\n",
       "      <td>6</td>\n",
       "      <td>5</td>\n",
       "      <td>5</td>\n",
       "      <td>7</td>\n",
       "      <td>7</td>\n",
       "      <td>4</td>\n",
       "      <td>7</td>\n",
       "      <td>7</td>\n",
       "      <td>7</td>\n",
       "      <td>4</td>\n",
       "    </tr>\n",
       "    <tr>\n",
       "      <th>7</th>\n",
       "      <td>1.0</td>\n",
       "      <td>1.0</td>\n",
       "      <td>5.0</td>\n",
       "      <td>0.0</td>\n",
       "      <td>4.0</td>\n",
       "      <td>4.0</td>\n",
       "      <td>2.0</td>\n",
       "      <td>2.0</td>\n",
       "      <td>0.0</td>\n",
       "      <td>4.0</td>\n",
       "      <td>...</td>\n",
       "      <td>2</td>\n",
       "      <td>2</td>\n",
       "      <td>7</td>\n",
       "      <td>5</td>\n",
       "      <td>1</td>\n",
       "      <td>1</td>\n",
       "      <td>2</td>\n",
       "      <td>5</td>\n",
       "      <td>5</td>\n",
       "      <td>1</td>\n",
       "    </tr>\n",
       "    <tr>\n",
       "      <th>8</th>\n",
       "      <td>3.0</td>\n",
       "      <td>1.0</td>\n",
       "      <td>5.0</td>\n",
       "      <td>0.0</td>\n",
       "      <td>5.0</td>\n",
       "      <td>3.0</td>\n",
       "      <td>1.0</td>\n",
       "      <td>1.0</td>\n",
       "      <td>0.0</td>\n",
       "      <td>3.0</td>\n",
       "      <td>...</td>\n",
       "      <td>6</td>\n",
       "      <td>4</td>\n",
       "      <td>5</td>\n",
       "      <td>2</td>\n",
       "      <td>5</td>\n",
       "      <td>5</td>\n",
       "      <td>3</td>\n",
       "      <td>1</td>\n",
       "      <td>4</td>\n",
       "      <td>6</td>\n",
       "    </tr>\n",
       "    <tr>\n",
       "      <th>9</th>\n",
       "      <td>1.0</td>\n",
       "      <td>1.0</td>\n",
       "      <td>4.0</td>\n",
       "      <td>0.0</td>\n",
       "      <td>2.0</td>\n",
       "      <td>3.0</td>\n",
       "      <td>1.0</td>\n",
       "      <td>3.0</td>\n",
       "      <td>1.0</td>\n",
       "      <td>3.0</td>\n",
       "      <td>...</td>\n",
       "      <td>6</td>\n",
       "      <td>6</td>\n",
       "      <td>3</td>\n",
       "      <td>4</td>\n",
       "      <td>7</td>\n",
       "      <td>6</td>\n",
       "      <td>7</td>\n",
       "      <td>1</td>\n",
       "      <td>3</td>\n",
       "      <td>4</td>\n",
       "    </tr>\n",
       "  </tbody>\n",
       "</table>\n",
       "<p>10 rows × 79 columns</p>\n",
       "</div>"
      ],
      "text/plain": [
       "   REGIOTYP  KKK  W_KEIT_KIND_HH  KBA05_ANTG4  KBA05_GBZ  MOBI_REGIO  \\\n",
       "0       NaN  NaN             NaN          NaN        NaN         NaN   \n",
       "1       3.0  2.0             3.0          2.0        1.0         1.0   \n",
       "2       2.0  2.0             3.0          0.0        3.0         3.0   \n",
       "3       NaN  NaN             NaN          0.0        4.0         4.0   \n",
       "4       5.0  3.0             2.0          0.0        3.0         3.0   \n",
       "5       5.0  4.0             6.0          0.0        4.0         4.0   \n",
       "6       5.0  3.0             3.0          0.0        3.0         5.0   \n",
       "7       1.0  1.0             5.0          0.0        4.0         4.0   \n",
       "8       3.0  1.0             5.0          0.0        5.0         3.0   \n",
       "9       1.0  1.0             4.0          0.0        2.0         3.0   \n",
       "\n",
       "   KBA05_ANTG1  KBA05_ANTG2  KBA05_ANTG3  PLZ8_GBZ  ...  SEMIO_LUST  \\\n",
       "0          NaN          NaN          NaN       NaN  ...           5   \n",
       "1          0.0          0.0          0.0       4.0  ...           2   \n",
       "2          1.0          3.0          1.0       4.0  ...           4   \n",
       "3          4.0          1.0          0.0       4.0  ...           4   \n",
       "4          1.0          4.0          1.0       3.0  ...           4   \n",
       "5          2.0          2.0          0.0       5.0  ...           2   \n",
       "6          3.0          2.0          0.0       5.0  ...           6   \n",
       "7          2.0          2.0          0.0       4.0  ...           2   \n",
       "8          1.0          1.0          0.0       3.0  ...           6   \n",
       "9          1.0          3.0          1.0       3.0  ...           6   \n",
       "\n",
       "   SEMIO_ERL  SEMIO_KULT  SEMIO_RAT  SEMIO_KRIT  SEMIO_DOM  SEMIO_KAEM  \\\n",
       "0          3           3          4           7          6           6   \n",
       "1          2           3          6           4          7           4   \n",
       "2          6           3          4           7          7           7   \n",
       "3          7           4          3           4          4           5   \n",
       "4          4           6          2           3          2           2   \n",
       "5          2           5          7           4          4           4   \n",
       "6          5           5          7           7          4           7   \n",
       "7          2           7          5           1          1           2   \n",
       "8          4           5          2           5          5           3   \n",
       "9          6           3          4           7          6           7   \n",
       "\n",
       "   SEMIO_PFLICHT  SEMIO_TRADV  ZABEOTYP  \n",
       "0              5            3         3  \n",
       "1              7            6         5  \n",
       "2              3            3         5  \n",
       "3              4            4         3  \n",
       "4              4            2         4  \n",
       "5              7            6         4  \n",
       "6              7            7         4  \n",
       "7              5            5         1  \n",
       "8              1            4         6  \n",
       "9              1            3         4  \n",
       "\n",
       "[10 rows x 79 columns]"
      ]
     },
     "execution_count": 12,
     "metadata": {},
     "output_type": "execute_result"
    }
   ],
   "source": [
    "azdias_nan_treated[features_to_keep].head(n=10)"
   ]
  },
  {
   "cell_type": "markdown",
   "metadata": {},
   "source": [
    "#### Discussion 1.1.2: Assess Missing Data in Each Column\n",
    "\n",
    "(Double click this cell and replace this text with your own text, reporting your observations regarding the amount of missing data in each column. Are there any patterns in missing values? Which columns were removed from the dataset?)\n",
    "\n",
    "**Answer**: From the histogram above, we can see most of the columns have a ratio of missing data or NaN of less than the threshold of 0.2. There are 6 columns which are outliers. The columns to remove are\n",
    "\n",
    "Outlier | Description | Comment\n",
    "--- | --- | ---\n",
    "`TITEL_KZ` | Academic title flag | Not surprising as this info is only applicable to academicians, a small subset of population\n",
    "`AGER_TYP` | Best-ager topology| Difficulty in classification may have led to high proportion of missing data\n",
    "`KK_KUNDENTYP` | Consumer pattern over past 12 months | Not surprising as not everyone are consumers from the mail-order company\n",
    "`KBA05_BAUMAX` | Number of 1-2 family houses in the microcell | Nil comment\n",
    "`GEBURTSJAHR` | Year of birth | It's surprising that this info has high proportion of missing data\n",
    "`ALTER_HH` | Birthdate of head of household | It's surprising that this info has high proportion of missing data\n"
   ]
  },
  {
   "cell_type": "markdown",
   "metadata": {},
   "source": [
    "#### Step 1.1.3: Assess Missing Data in Each Row\n",
    "\n",
    "Now, you'll perform a similar assessment for the rows of the dataset. How much data is missing in each row? As with the columns, you should see some groups of points that have a very different numbers of missing values. Divide the data into two subsets: one for data points that are above some threshold for missing values, and a second subset for points below that threshold.\n",
    "\n",
    "In order to know what to do with the outlier rows, we should see if the distribution of data values on columns that are not missing data (or are missing very little data) are similar or different between the two groups. Select at least five of these columns and compare the distribution of values.\n",
    "- You can use seaborn's [`countplot()`](https://seaborn.pydata.org/generated/seaborn.countplot.html) function to create a bar chart of code frequencies and matplotlib's [`subplot()`](https://matplotlib.org/api/_as_gen/matplotlib.pyplot.subplot.html) function to put bar charts for the two subplots side by side.\n",
    "- To reduce repeated code, you might want to write a function that can perform this comparison, taking as one of its arguments a column to be compared.\n",
    "\n",
    "Depending on what you observe in your comparison, this will have implications on how you approach your conclusions later in the analysis. If the distributions of non-missing features look similar between the data with many missing values and the data with few or no missing values, then we could argue that simply dropping those points from the analysis won't present a major issue. On the other hand, if the data with many missing values looks very different from the data with few or no missing values, then we should make a note on those data as special. We'll revisit these data later on. **Either way, you should continue your analysis for now using just the subset of the data with few or no missing values.**"
   ]
  },
  {
   "cell_type": "code",
   "execution_count": 13,
   "metadata": {},
   "outputs": [
    {
     "data": {
      "text/plain": [
       "Text(0.5, 0, 'Ratio of missing data in the row')"
      ]
     },
     "execution_count": 13,
     "metadata": {},
     "output_type": "execute_result"
    },
    {
     "data": {
      "image/png": "[encoded data removed]",
      "text/plain": [
       "<Figure size 432x288 with 1 Axes>"
      ]
     },
     "metadata": {
      "needs_background": "light"
     },
     "output_type": "display_data"
    }
   ],
   "source": [
    "# How much data is missing in each row of the dataset?\n",
    "\n",
    "azdias_dataset = azdias_nan_treated.drop(columns=features_to_remove)\n",
    "\n",
    "num_azdias_column = azdias_dataset.shape[1]\n",
    "\n",
    "row_nan_ratio = azdias_dataset.isna().sum(axis=1)/num_azdias_column\n",
    "\n",
    "#Visualise in histogram\n",
    "\n",
    "plt.hist(row_nan_ratio)\n",
    "plt.ylabel('Number of rows')\n",
    "plt.xlabel('Ratio of missing data in the row')"
   ]
  },
  {
   "cell_type": "code",
   "execution_count": 14,
   "metadata": {},
   "outputs": [
    {
     "name": "stdout",
     "output_type": "stream",
     "text": [
      "Mean of NaN ratio : 0.071518\n",
      "Std dev of NaN ratio : 0.167528\n",
      "Row Outlier Threshold : 0.239045\n"
     ]
    }
   ],
   "source": [
    "#calc mean and std dev of NaN ratio\n",
    "print (\"Mean of NaN ratio : %f\" % row_nan_ratio.mean())\n",
    "print (\"Std dev of NaN ratio : %f\" % row_nan_ratio.std())\n",
    "row_outlier_threshold = row_nan_ratio.mean() + row_nan_ratio.std()\n",
    "print (\"Row Outlier Threshold : %f\" % row_outlier_threshold)"
   ]
  },
  {
   "cell_type": "markdown",
   "metadata": {},
   "source": [
    "Visually, we can see two distinct subsets of data with different ratios of missing data. One group clusters below 0.2, while the other clusters around 0.4 and above. We can pick ratio = 0.239 as threshold, using mean + 1 std ."
   ]
  },
  {
   "cell_type": "code",
   "execution_count": 15,
   "metadata": {},
   "outputs": [],
   "source": [
    "# Write code to divide the data into two subsets based on the number of missing\n",
    "# values in each row.\n",
    "azdias_dataset_bad = azdias_dataset[row_nan_ratio > row_outlier_threshold]\n",
    "azdias_dataset_good = azdias_dataset[row_nan_ratio <= row_outlier_threshold]"
   ]
  },
  {
   "cell_type": "code",
   "execution_count": 16,
   "metadata": {},
   "outputs": [
    {
     "name": "stdout",
     "output_type": "stream",
     "text": [
      "80        SEMIO_DOM\n",
      "81       SEMIO_KAEM\n",
      "82    SEMIO_PFLICHT\n",
      "83      SEMIO_TRADV\n",
      "84         ZABEOTYP\n",
      "Name: feature, dtype: object\n"
     ]
    }
   ],
   "source": [
    "# Compare the distribution of values for at least five columns where there are\n",
    "# no or few missing values, between the two subsets.\n",
    "\n",
    "#Choose the 5 columns with the lowest ratio of NaN, using previous analysis\n",
    "columns_good = df_azdias_nan.tail()['feature']\n",
    "\n",
    "print (columns_good)"
   ]
  },
  {
   "cell_type": "code",
   "execution_count": 17,
   "metadata": {},
   "outputs": [
    {
     "data": {
      "text/plain": [
       "Text(0.5, 0.98, 'Comparison of the distribution between the good subset (left) and bad subset (right)')"
      ]
     },
     "execution_count": 17,
     "metadata": {},
     "output_type": "execute_result"
    },
    {
     "data": {
      "image/png": "[encoded data removed]",
      "text/plain": [
       "<Figure size 1080x1080 with 10 Axes>"
      ]
     },
     "metadata": {
      "needs_background": "light"
     },
     "output_type": "display_data"
    }
   ],
   "source": [
    "fig = plt.figure(figsize=(15, 15))\n",
    "fig.subplots_adjust(hspace=0.4, wspace=0.4)\n",
    "\n",
    "num_row_subplot = len(columns_good)\n",
    "\n",
    "for index in range(0, len(columns_good)):\n",
    "    feature = columns_good.iloc[index]\n",
    "    index = index + 1\n",
    "    ax = fig.add_subplot(num_row_subplot, 2, (index * 2 - 1))\n",
    "    sns.countplot(x=feature, data=azdias_dataset_good)\n",
    "    ax = fig.add_subplot(num_row_subplot, 2, index * 2)\n",
    "    sns.countplot(x=feature, data=azdias_dataset_bad)\n",
    "    \n",
    "fig.suptitle('Comparison of the distribution between the good subset (left) and bad subset (right)', fontsize=15)"
   ]
  },
  {
   "cell_type": "markdown",
   "metadata": {},
   "source": [
    "#### Discussion 1.1.3: Assess Missing Data in Each Row\n",
    "\n",
    "(Double-click this cell and replace this text with your own text, reporting your observations regarding missing data in rows. Are the data with lots of missing values are qualitatively different from data with few or no missing values?)\n",
    "\n",
    "**Answer:** Yes, the two subsets look distinctly different. For the good subset, it appears that the distribution of values within the columns are more evenly distributed. For the bad subset, the distribution of value tends to be skewed and concentrated on one or two values. We should drop the bad subset, as skewed sample data is not suitable for analysis."
   ]
  },
  {
   "cell_type": "markdown",
   "metadata": {},
   "source": [
    "### Step 1.2: Select and Re-Encode Features\n",
    "\n",
    "Checking for missing data isn't the only way in which you can prepare a dataset for analysis. Since the unsupervised learning techniques to be used will only work on data that is encoded numerically, you need to make a few encoding changes or additional assumptions to be able to make progress. In addition, while almost all of the values in the dataset are encoded using numbers, not all of them represent numeric values. Check the third column of the feature summary (`feat_info`) for a summary of types of measurement.\n",
    "- For numeric and interval data, these features can be kept without changes.\n",
    "- Most of the variables in the dataset are ordinal in nature. While ordinal values may technically be non-linear in spacing, make the simplifying assumption that the ordinal variables can be treated as being interval in nature (that is, kept without any changes).\n",
    "- Special handling may be necessary for the remaining two variable types: categorical, and 'mixed'.\n",
    "\n",
    "In the first two parts of this sub-step, you will perform an investigation of the categorical and mixed-type features and make a decision on each of them, whether you will keep, drop, or re-encode each. Then, in the last part, you will create a new data frame with only the selected and engineered columns.\n",
    "\n",
    "Data wrangling is often the trickiest part of the data analysis process, and there's a lot of it to be done here. But stick with it: once you're done with this step, you'll be ready to get to the machine learning parts of the project!"
   ]
  },
  {
   "cell_type": "code",
   "execution_count": 18,
   "metadata": {},
   "outputs": [
    {
     "name": "stdout",
     "output_type": "stream",
     "text": [
      "21 categorical\n",
      "49 ordinal\n",
      "7 numeric\n",
      "7 mixed\n",
      "1 interval\n"
     ]
    }
   ],
   "source": [
    "# How many features are there of each data type?\n",
    "\n",
    "data_type = feat_info['type'].unique()\n",
    "\n",
    "for type in data_type:\n",
    "    n_type = len(feat_info[feat_info['type'] == type])\n",
    "    print (n_type, type)"
   ]
  },
  {
   "cell_type": "markdown",
   "metadata": {},
   "source": [
    "#### Step 1.2.1: Re-Encode Categorical Features\n",
    "\n",
    "For categorical data, you would ordinarily need to encode the levels as dummy variables. Depending on the number of categories, perform one of the following:\n",
    "- For binary (two-level) categoricals that take numeric values, you can keep them without needing to do anything.\n",
    "- There is one binary variable that takes on non-numeric values. For this one, you need to re-encode the values as numbers or create a dummy variable.\n",
    "- For multi-level categoricals (three or more values), you can choose to encode the values using multiple dummy variables (e.g. via [OneHotEncoder](http://scikit-learn.org/stable/modules/generated/sklearn.preprocessing.OneHotEncoder.html)), or (to keep things straightforward) just drop them from the analysis. As always, document your choices in the Discussion section."
   ]
  },
  {
   "cell_type": "code",
   "execution_count": 19,
   "metadata": {},
   "outputs": [
    {
     "name": "stdout",
     "output_type": "stream",
     "text": [
      "0             AGER_TYP\n",
      "2            ANREDE_KZ\n",
      "3        CJT_GESAMTTYP\n",
      "10           FINANZTYP\n",
      "12     GFK_URLAUBERTYP\n",
      "13    GREEN_AVANTGARDE\n",
      "17     LP_FAMILIE_FEIN\n",
      "18     LP_FAMILIE_GROB\n",
      "19      LP_STATUS_FEIN\n",
      "20      LP_STATUS_GROB\n",
      "21    NATIONALITAET_KZ\n",
      "38         SHOPPER_TYP\n",
      "39             SOHO_KZ\n",
      "40            TITEL_KZ\n",
      "41            VERS_TYP\n",
      "42            ZABEOTYP\n",
      "47        KK_KUNDENTYP\n",
      "52         GEBAEUDETYP\n",
      "55         OST_WEST_KZ\n",
      "57     CAMEO_DEUG_2015\n",
      "58      CAMEO_DEU_2015\n",
      "Name: attribute, dtype: object\n"
     ]
    }
   ],
   "source": [
    "# Assess categorical variables: which are binary, which are multi-level, and\n",
    "# which one needs to be re-encoded?\n",
    "\n",
    "features_categorical = feat_info.loc[feat_info['type'] == 'categorical', 'attribute']\n",
    "features_to_encode = features_categorical.copy()\n",
    "print (features_to_encode)"
   ]
  },
  {
   "cell_type": "markdown",
   "metadata": {},
   "source": [
    "Upon inspection of `Data_Dictionary.md`, we see that the following features (rough version) are redundant, as the more detailed version of data (fine version) is already part of the list. The features below can therefore be dropped.\n",
    "\n",
    "* `LP_FAMILIE_GROB`\n",
    "* `LP_STATUS_GROB`\n",
    "* `CAMEO_DEUG_2015`"
   ]
  },
  {
   "cell_type": "code",
   "execution_count": 20,
   "metadata": {},
   "outputs": [],
   "source": [
    "#add to list of features to be removed\n",
    "append_list = pd.Series(name='feature', data=['LP_FAMILIE_GROB', 'LP_STATUS_GROB', 'CAMEO_DEUG_2015'])\n",
    "features_to_remove = features_to_remove.append(append_list, ignore_index=True)"
   ]
  },
  {
   "cell_type": "code",
   "execution_count": 21,
   "metadata": {},
   "outputs": [
    {
     "data": {
      "text/plain": [
       "0           TITEL_KZ\n",
       "1           AGER_TYP\n",
       "2       KK_KUNDENTYP\n",
       "3       KBA05_BAUMAX\n",
       "4        GEBURTSJAHR\n",
       "5           ALTER_HH\n",
       "6    LP_FAMILIE_GROB\n",
       "7     LP_STATUS_GROB\n",
       "8    CAMEO_DEUG_2015\n",
       "Name: feature, dtype: object"
      ]
     },
     "execution_count": 21,
     "metadata": {},
     "output_type": "execute_result"
    }
   ],
   "source": [
    "features_to_remove"
   ]
  },
  {
   "cell_type": "code",
   "execution_count": 22,
   "metadata": {},
   "outputs": [
    {
     "name": "stdout",
     "output_type": "stream",
     "text": [
      "Drop feature from list to encode: AGER_TYP\n",
      "Drop feature from list to encode: LP_FAMILIE_GROB\n",
      "Drop feature from list to encode: LP_STATUS_GROB\n",
      "Drop feature from list to encode: TITEL_KZ\n",
      "Drop feature from list to encode: KK_KUNDENTYP\n",
      "Drop feature from list to encode: CAMEO_DEUG_2015\n"
     ]
    }
   ],
   "source": [
    "for index, feature in features_to_encode.iteritems():\n",
    "    if feature in features_to_remove.values:\n",
    "        print (\"Drop feature from list to encode: %s\" % feature)\n",
    "        features_to_encode.drop(index, inplace=True)"
   ]
  },
  {
   "cell_type": "code",
   "execution_count": 23,
   "metadata": {},
   "outputs": [
    {
     "name": "stdout",
     "output_type": "stream",
     "text": [
      "Drop binary feature from list to encode: ANREDE_KZ\n",
      "Drop binary feature from list to encode: GREEN_AVANTGARDE\n",
      "Drop binary feature from list to encode: SOHO_KZ\n",
      "Drop binary feature from list to encode: VERS_TYP\n"
     ]
    }
   ],
   "source": [
    "#drop binary columns that need not be encoded \n",
    "\n",
    "features_to_encode = features_to_encode.reset_index(drop=True)\n",
    "\n",
    "for index, feature in features_to_encode.iteritems():\n",
    "    unique_values = azdias_nan_treated[feature].dropna().unique()\n",
    "    if len(unique_values) == 2 and unique_values.dtype != 'object':\n",
    "        print (\"Drop binary feature from list to encode: %s\" % feature)\n",
    "        features_to_encode.drop(index, inplace=True)"
   ]
  },
  {
   "cell_type": "code",
   "execution_count": 24,
   "metadata": {},
   "outputs": [
    {
     "name": "stdout",
     "output_type": "stream",
     "text": [
      "List of features to encode:\n",
      "1        CJT_GESAMTTYP\n",
      "2            FINANZTYP\n",
      "3      GFK_URLAUBERTYP\n",
      "5      LP_FAMILIE_FEIN\n",
      "6       LP_STATUS_FEIN\n",
      "7     NATIONALITAET_KZ\n",
      "8          SHOPPER_TYP\n",
      "11            ZABEOTYP\n",
      "12         GEBAEUDETYP\n",
      "13         OST_WEST_KZ\n",
      "14      CAMEO_DEU_2015\n",
      "Name: attribute, dtype: object\n"
     ]
    }
   ],
   "source": [
    "# Re-encode categorical variable(s) to be kept in the analysis.\n",
    "# List of multi-level categories columns that need to be encoded using dummy variables\n",
    "# We will remove some of the features based on `features_to_remove` list later\n",
    "print (\"List of features to encode:\")\n",
    "print (features_to_encode)"
   ]
  },
  {
   "cell_type": "markdown",
   "metadata": {},
   "source": [
    "#### Discussion 1.2.1: Re-Encode Categorical Features\n",
    "\n",
    "(Double-click this cell and replace this text with your own text, reporting your findings and decisions regarding categorical features. Which ones did you keep, which did you drop, and what engineering steps did you perform?)\n",
    "\n",
    "**Answer**: \n",
    "\n",
    "We removed the following binary features (numerical) from the list to be encoded:\n",
    "\n",
    "* `ANREDE_KZ`\n",
    "* `GREEN_AVANTGARDE`\n",
    "* `SOHO_KZ`\n",
    "\n",
    "In addition, we also have to remove columns which are redundant and have high NaN ratio as loaded in `features_to_remove` list\n",
    "\n",
    "The list of features to be encoded (at this point of time) are\n",
    "\n",
    "*        `CJT_GESAMTTYP`\n",
    "*            `FINANZTYP`\n",
    "*      `GFK_URLAUBERTYP`\n",
    "*      `LP_FAMILIE_FEIN`\n",
    "*       `LP_STATUS_FEIN`\n",
    "*     `NATIONALITAET_KZ`\n",
    "*          `SHOPPER_TYP`\n",
    "*            `VERS_TYP`\n",
    "*            `ZABEOTYP`\n",
    "*         `GEBAEUDETYP`\n",
    "*         `OST_WEST_KZ`\n",
    "*      `CAMEO_DEU_2015`"
   ]
  },
  {
   "cell_type": "markdown",
   "metadata": {},
   "source": [
    "#### Step 1.2.2: Engineer Mixed-Type Features\n",
    "\n",
    "There are a handful of features that are marked as \"mixed\" in the feature summary that require special treatment in order to be included in the analysis. There are two in particular that deserve attention; the handling of the rest are up to your own choices:\n",
    "- \"PRAEGENDE_JUGENDJAHRE\" combines information on three dimensions: generation by decade, movement (mainstream vs. avantgarde), and nation (east vs. west). While there aren't enough levels to disentangle east from west, you should create two new variables to capture the other two dimensions: an interval-type variable for decade, and a binary variable for movement.\n",
    "- \"CAMEO_INTL_2015\" combines information on two axes: wealth and life stage. Break up the two-digit codes by their 'tens'-place and 'ones'-place digits into two new ordinal variables (which, for the purposes of this project, is equivalent to just treating them as their raw numeric values).\n",
    "- If you decide to keep or engineer new features around the other mixed-type features, make sure you note your steps in the Discussion section.\n",
    "\n",
    "Be sure to check `Data_Dictionary.md` for the details needed to finish these tasks."
   ]
  },
  {
   "cell_type": "code",
   "execution_count": 25,
   "metadata": {},
   "outputs": [
    {
     "name": "stderr",
     "output_type": "stream",
     "text": [
      "/Users/songhanwong/anaconda3/lib/python3.7/site-packages/ipykernel_launcher.py:18: SettingWithCopyWarning: \n",
      "A value is trying to be set on a copy of a slice from a DataFrame.\n",
      "Try using .loc[row_indexer,col_indexer] = value instead\n",
      "\n",
      "See the caveats in the documentation: http://pandas.pydata.org/pandas-docs/stable/user_guide/indexing.html#returning-a-view-versus-a-copy\n"
     ]
    },
    {
     "data": {
      "text/plain": [
       "6.0    224807\n",
       "4.0    174841\n",
       "5.0    151442\n",
       "3.0    114236\n",
       "2.0     74198\n",
       "1.0     28088\n",
       "Name: PRAEGENDE_JUGENDJAHRE_DECADE, dtype: int64"
      ]
     },
     "execution_count": 25,
     "metadata": {},
     "output_type": "execute_result"
    }
   ],
   "source": [
    "# Investigate \"PRAEGENDE_JUGENDJAHRE\" and engineer two new variables.\n",
    "\n",
    "#create dict for mapping of values\n",
    "\"\"\"\n",
    "new variable to use the following encoding:\n",
    "- NaN: unknown\n",
    "-  1: 1940s\n",
    "-  2: 1950s\n",
    "-  3: 1960s\n",
    "-  4: 1970s\n",
    "-  5: 1980s\n",
    "-  6: 1990s\n",
    "\"\"\"\n",
    "decade_map_dict = {-1:np.nan, 0:np.nan, 1:1, 2:1, 3:2, 4:2, 5:3, 6:3, 7:3, 8:4, 9:4, 10:5,\n",
    "                     11:5, 12:5, 13:5, 14:6, 15: 6}\n",
    "\n",
    "#create a new feature of 'interval' type capturing 'Decade' info\n",
    "azdias_dataset_good['PRAEGENDE_JUGENDJAHRE_DECADE'] = azdias_dataset_good['PRAEGENDE_JUGENDJAHRE'].replace(decade_map_dict)\n",
    "azdias_dataset_good['PRAEGENDE_JUGENDJAHRE_DECADE'].value_counts()"
   ]
  },
  {
   "cell_type": "code",
   "execution_count": 26,
   "metadata": {},
   "outputs": [
    {
     "name": "stderr",
     "output_type": "stream",
     "text": [
      "/Users/songhanwong/anaconda3/lib/python3.7/site-packages/ipykernel_launcher.py:12: SettingWithCopyWarning: \n",
      "A value is trying to be set on a copy of a slice from a DataFrame.\n",
      "Try using .loc[row_indexer,col_indexer] = value instead\n",
      "\n",
      "See the caveats in the documentation: http://pandas.pydata.org/pandas-docs/stable/user_guide/indexing.html#returning-a-view-versus-a-copy\n",
      "  if sys.path[0] == '':\n"
     ]
    },
    {
     "data": {
      "text/plain": [
       "1.0    592723\n",
       "2.0    174889\n",
       "Name: PRAEGENDE_JUGENDJAHRE_MOVEMENT, dtype: int64"
      ]
     },
     "execution_count": 26,
     "metadata": {},
     "output_type": "execute_result"
    }
   ],
   "source": [
    "#create dict for mapping of values\n",
    "\"\"\"\n",
    "new variable to use the following encoding:\n",
    "- NaN: unknown\n",
    "-  1: mainstream\n",
    "-  2: avantgarden\n",
    "\"\"\"\n",
    "movement_map_dict = {-1:np.nan, 0:np.nan, 1:1, 2:2, 3:1, 4:2, 5:1, 6:2, 7:2, 8:1, 9:2, 10:1,\n",
    "                     11:2, 12:1, 13:2, 14:1, 15: 2}\n",
    "\n",
    "#create a new feature of 'binary' type capturing 'Movement' info\n",
    "azdias_dataset_good['PRAEGENDE_JUGENDJAHRE_MOVEMENT'] = azdias_dataset_good['PRAEGENDE_JUGENDJAHRE'].replace(movement_map_dict)\n",
    "azdias_dataset_good['PRAEGENDE_JUGENDJAHRE_MOVEMENT'].value_counts()"
   ]
  },
  {
   "cell_type": "code",
   "execution_count": 27,
   "metadata": {},
   "outputs": [
    {
     "name": "stderr",
     "output_type": "stream",
     "text": [
      "/Users/songhanwong/anaconda3/lib/python3.7/site-packages/ipykernel_launcher.py:9: SettingWithCopyWarning: \n",
      "A value is trying to be set on a copy of a slice from a DataFrame.\n",
      "Try using .loc[row_indexer,col_indexer] = value instead\n",
      "\n",
      "See the caveats in the documentation: http://pandas.pydata.org/pandas-docs/stable/user_guide/indexing.html#returning-a-view-versus-a-copy\n",
      "  if __name__ == '__main__':\n",
      "/Users/songhanwong/anaconda3/lib/python3.7/site-packages/ipykernel_launcher.py:10: SettingWithCopyWarning: \n",
      "A value is trying to be set on a copy of a slice from a DataFrame.\n",
      "Try using .loc[row_indexer,col_indexer] = value instead\n",
      "\n",
      "See the caveats in the documentation: http://pandas.pydata.org/pandas-docs/stable/user_guide/indexing.html#returning-a-view-versus-a-copy\n",
      "  # Remove the CWD from sys.path while we load stuff.\n"
     ]
    }
   ],
   "source": [
    "# Investigate \"CAMEO_INTL_2015\" and engineer two new variables.\n",
    "# pos=0 for household wealth, pos=1 for life stage\n",
    "def map_cameo(input, pos):\n",
    "    if pd.isna(input):\n",
    "        return input\n",
    "    else:\n",
    "        return str(input)[pos]\n",
    "\n",
    "azdias_dataset_good['CAMEO_HOUSEHOLD_WEALTH'] = azdias_dataset_good['CAMEO_INTL_2015'].apply(map_cameo, pos=0)\n",
    "azdias_dataset_good['CAMEO_LIFE_STAGE'] = azdias_dataset_good['CAMEO_INTL_2015'].apply(map_cameo, pos=1)"
   ]
  },
  {
   "cell_type": "code",
   "execution_count": 28,
   "metadata": {},
   "outputs": [
    {
     "data": {
      "text/html": [
       "<div>\n",
       "<style scoped>\n",
       "    .dataframe tbody tr th:only-of-type {\n",
       "        vertical-align: middle;\n",
       "    }\n",
       "\n",
       "    .dataframe tbody tr th {\n",
       "        vertical-align: top;\n",
       "    }\n",
       "\n",
       "    .dataframe thead th {\n",
       "        text-align: right;\n",
       "    }\n",
       "</style>\n",
       "<table border=\"1\" class=\"dataframe\">\n",
       "  <thead>\n",
       "    <tr style=\"text-align: right;\">\n",
       "      <th></th>\n",
       "      <th>attribute</th>\n",
       "      <th>information_level</th>\n",
       "      <th>type</th>\n",
       "      <th>missing_or_unknown</th>\n",
       "    </tr>\n",
       "  </thead>\n",
       "  <tbody>\n",
       "    <tr>\n",
       "      <th>15</th>\n",
       "      <td>LP_LEBENSPHASE_FEIN</td>\n",
       "      <td>person</td>\n",
       "      <td>mixed</td>\n",
       "      <td>[0]</td>\n",
       "    </tr>\n",
       "    <tr>\n",
       "      <th>16</th>\n",
       "      <td>LP_LEBENSPHASE_GROB</td>\n",
       "      <td>person</td>\n",
       "      <td>mixed</td>\n",
       "      <td>[0]</td>\n",
       "    </tr>\n",
       "    <tr>\n",
       "      <th>22</th>\n",
       "      <td>PRAEGENDE_JUGENDJAHRE</td>\n",
       "      <td>person</td>\n",
       "      <td>mixed</td>\n",
       "      <td>[-1,0]</td>\n",
       "    </tr>\n",
       "    <tr>\n",
       "      <th>56</th>\n",
       "      <td>WOHNLAGE</td>\n",
       "      <td>building</td>\n",
       "      <td>mixed</td>\n",
       "      <td>[-1]</td>\n",
       "    </tr>\n",
       "    <tr>\n",
       "      <th>59</th>\n",
       "      <td>CAMEO_INTL_2015</td>\n",
       "      <td>microcell_rr4</td>\n",
       "      <td>mixed</td>\n",
       "      <td>[-1,XX]</td>\n",
       "    </tr>\n",
       "    <tr>\n",
       "      <th>64</th>\n",
       "      <td>KBA05_BAUMAX</td>\n",
       "      <td>microcell_rr3</td>\n",
       "      <td>mixed</td>\n",
       "      <td>[-1,0]</td>\n",
       "    </tr>\n",
       "    <tr>\n",
       "      <th>79</th>\n",
       "      <td>PLZ8_BAUMAX</td>\n",
       "      <td>macrocell_plz8</td>\n",
       "      <td>mixed</td>\n",
       "      <td>[-1,0]</td>\n",
       "    </tr>\n",
       "  </tbody>\n",
       "</table>\n",
       "</div>"
      ],
      "text/plain": [
       "                attribute information_level   type missing_or_unknown\n",
       "15    LP_LEBENSPHASE_FEIN            person  mixed                [0]\n",
       "16    LP_LEBENSPHASE_GROB            person  mixed                [0]\n",
       "22  PRAEGENDE_JUGENDJAHRE            person  mixed             [-1,0]\n",
       "56               WOHNLAGE          building  mixed               [-1]\n",
       "59        CAMEO_INTL_2015     microcell_rr4  mixed            [-1,XX]\n",
       "64           KBA05_BAUMAX     microcell_rr3  mixed             [-1,0]\n",
       "79            PLZ8_BAUMAX    macrocell_plz8  mixed             [-1,0]"
      ]
     },
     "execution_count": 28,
     "metadata": {},
     "output_type": "execute_result"
    }
   ],
   "source": [
    "#check for other mixed types\n",
    "feat_info[feat_info['type'] == 'mixed']"
   ]
  },
  {
   "cell_type": "markdown",
   "metadata": {},
   "source": [
    "`LP_LEBENSPHASE_GROB` is a rough version of `LP_LEBENSPHASE_FEIN`, and therefore we can drop `LP_LEBENSPHASE_GROB` as it is redundant. This is in addition to  `PRAEGENDE_JUGENDJAHRE` and `CAMEO_INTL_2015`"
   ]
  },
  {
   "cell_type": "code",
   "execution_count": 29,
   "metadata": {},
   "outputs": [
    {
     "data": {
      "text/plain": [
       "1        CJT_GESAMTTYP\n",
       "2            FINANZTYP\n",
       "3      GFK_URLAUBERTYP\n",
       "5      LP_FAMILIE_FEIN\n",
       "6       LP_STATUS_FEIN\n",
       "7     NATIONALITAET_KZ\n",
       "8          SHOPPER_TYP\n",
       "11            ZABEOTYP\n",
       "12         GEBAEUDETYP\n",
       "13         OST_WEST_KZ\n",
       "14      CAMEO_DEU_2015\n",
       "Name: attribute, dtype: object"
      ]
     },
     "execution_count": 29,
     "metadata": {},
     "output_type": "execute_result"
    }
   ],
   "source": [
    "features_to_encode"
   ]
  },
  {
   "cell_type": "code",
   "execution_count": 30,
   "metadata": {},
   "outputs": [],
   "source": [
    "append_list = pd.Series(name='attribute', data=['LP_LEBENSPHASE_GROB', 'PRAEGENDE_JUGENDJAHRE', 'CAMEO_INTL_2015'])\n",
    "features_to_remove = features_to_remove.append(append_list, ignore_index=True)"
   ]
  },
  {
   "cell_type": "code",
   "execution_count": 31,
   "metadata": {},
   "outputs": [
    {
     "data": {
      "text/plain": [
       "0                  TITEL_KZ\n",
       "1                  AGER_TYP\n",
       "2              KK_KUNDENTYP\n",
       "3              KBA05_BAUMAX\n",
       "4               GEBURTSJAHR\n",
       "5                  ALTER_HH\n",
       "6           LP_FAMILIE_GROB\n",
       "7            LP_STATUS_GROB\n",
       "8           CAMEO_DEUG_2015\n",
       "9       LP_LEBENSPHASE_GROB\n",
       "10    PRAEGENDE_JUGENDJAHRE\n",
       "11          CAMEO_INTL_2015\n",
       "dtype: object"
      ]
     },
     "execution_count": 31,
     "metadata": {},
     "output_type": "execute_result"
    }
   ],
   "source": [
    "features_to_remove"
   ]
  },
  {
   "cell_type": "markdown",
   "metadata": {},
   "source": [
    "#### Discussion 1.2.2: Engineer Mixed-Type Features\n",
    "\n",
    "**Answer**: We created 4 new variables `PRAEGENDE_JUGENDJAHRE_MOVEMENT`, `PRAEGENDE_JUGENDJAHRE_DECADE`, `CAMEO_HOUSEHOLD_WEALTH` and `CAMEO_LIFE_STAGE`, which replaced `PRAEGENDE_JUGENDJAHRE`, `CAMEO_INTL_2015`."
   ]
  },
  {
   "cell_type": "markdown",
   "metadata": {},
   "source": [
    "#### Step 1.2.3: Complete Feature Selection\n",
    "\n",
    "In order to finish this step up, you need to make sure that your data frame now only has the columns that you want to keep. To summarize, the dataframe should consist of the following:\n",
    "- All numeric, interval, and ordinal type columns from the original dataset.\n",
    "- Binary categorical features (all numerically-encoded).\n",
    "- Engineered features from other multi-level categorical features and mixed features.\n",
    "\n",
    "Make sure that for any new columns that you have engineered, that you've excluded the columns from the final dataset. Otherwise, their values will interfere with the analysis later on the project. For example, you should not keep \"PRAEGENDE_JUGENDJAHRE\", since its values won't be useful for the algorithm: only the values derived from it in the engineered features you created should be retained. As a reminder, your data should only be from **the subset with few or no missing values**."
   ]
  },
  {
   "cell_type": "code",
   "execution_count": 32,
   "metadata": {},
   "outputs": [],
   "source": [
    "# If there are other re-engineering tasks you need to perform, make sure you\n",
    "# take care of them here. (Dealing with missing data will come in step 2.1.)\n",
    "#remove columns that are loaded in `features_to_remove`\n",
    "for index, feature in features_to_encode.iteritems():\n",
    "    if feature in features_to_remove.values:\n",
    "        print (\"Drop feature from list to encode: %s\" % feature)\n",
    "        features_to_encode.drop(index, inplace=True)"
   ]
  },
  {
   "cell_type": "code",
   "execution_count": 33,
   "metadata": {},
   "outputs": [
    {
     "data": {
      "text/plain": [
       "1        CJT_GESAMTTYP\n",
       "2            FINANZTYP\n",
       "3      GFK_URLAUBERTYP\n",
       "5      LP_FAMILIE_FEIN\n",
       "6       LP_STATUS_FEIN\n",
       "7     NATIONALITAET_KZ\n",
       "8          SHOPPER_TYP\n",
       "11            ZABEOTYP\n",
       "12         GEBAEUDETYP\n",
       "13         OST_WEST_KZ\n",
       "14      CAMEO_DEU_2015\n",
       "Name: attribute, dtype: object"
      ]
     },
     "execution_count": 33,
     "metadata": {},
     "output_type": "execute_result"
    }
   ],
   "source": [
    "#this is the final list of features to be encoded for the good subset \n",
    "features_to_encode"
   ]
  },
  {
   "cell_type": "code",
   "execution_count": 34,
   "metadata": {},
   "outputs": [
    {
     "data": {
      "text/plain": [
       "0                  TITEL_KZ\n",
       "1                  AGER_TYP\n",
       "2              KK_KUNDENTYP\n",
       "3              KBA05_BAUMAX\n",
       "4               GEBURTSJAHR\n",
       "5                  ALTER_HH\n",
       "6           LP_FAMILIE_GROB\n",
       "7            LP_STATUS_GROB\n",
       "8           CAMEO_DEUG_2015\n",
       "9       LP_LEBENSPHASE_GROB\n",
       "10    PRAEGENDE_JUGENDJAHRE\n",
       "11          CAMEO_INTL_2015\n",
       "dtype: object"
      ]
     },
     "execution_count": 34,
     "metadata": {},
     "output_type": "execute_result"
    }
   ],
   "source": [
    "#this is the final list of features to be removed from the good subset\n",
    "features_to_remove"
   ]
  },
  {
   "cell_type": "code",
   "execution_count": 35,
   "metadata": {},
   "outputs": [
    {
     "name": "stdout",
     "output_type": "stream",
     "text": [
      "Drop feature from good subset: LP_LEBENSPHASE_GROB\n"
     ]
    },
    {
     "name": "stderr",
     "output_type": "stream",
     "text": [
      "/Users/songhanwong/anaconda3/lib/python3.7/site-packages/pandas/core/frame.py:4097: SettingWithCopyWarning: \n",
      "A value is trying to be set on a copy of a slice from a DataFrame\n",
      "\n",
      "See the caveats in the documentation: http://pandas.pydata.org/pandas-docs/stable/user_guide/indexing.html#returning-a-view-versus-a-copy\n",
      "  errors=errors,\n"
     ]
    },
    {
     "name": "stdout",
     "output_type": "stream",
     "text": [
      "Drop feature from good subset: LP_FAMILIE_GROB\n",
      "Drop feature from good subset: LP_STATUS_GROB\n",
      "Drop feature from good subset: PRAEGENDE_JUGENDJAHRE\n",
      "Drop feature from good subset: CAMEO_DEUG_2015\n",
      "Drop feature from good subset: CAMEO_INTL_2015\n"
     ]
    }
   ],
   "source": [
    "for feature in azdias_dataset_good.columns:\n",
    "    if feature in features_to_remove.values:\n",
    "        print (\"Drop feature from good subset: %s\" % feature)\n",
    "        azdias_dataset_good.drop(columns=feature, inplace=True)"
   ]
  },
  {
   "cell_type": "code",
   "execution_count": 36,
   "metadata": {},
   "outputs": [],
   "source": [
    "#perform encoding for the final dataset, for selected features\n",
    "azdias_dataset_good = pd.get_dummies(columns=features_to_encode, data=azdias_dataset_good)"
   ]
  },
  {
   "cell_type": "code",
   "execution_count": 37,
   "metadata": {},
   "outputs": [
    {
     "data": {
      "text/html": [
       "<div>\n",
       "<style scoped>\n",
       "    .dataframe tbody tr th:only-of-type {\n",
       "        vertical-align: middle;\n",
       "    }\n",
       "\n",
       "    .dataframe tbody tr th {\n",
       "        vertical-align: top;\n",
       "    }\n",
       "\n",
       "    .dataframe thead th {\n",
       "        text-align: right;\n",
       "    }\n",
       "</style>\n",
       "<table border=\"1\" class=\"dataframe\">\n",
       "  <thead>\n",
       "    <tr style=\"text-align: right;\">\n",
       "      <th></th>\n",
       "      <th>ALTERSKATEGORIE_GROB</th>\n",
       "      <th>ANREDE_KZ</th>\n",
       "      <th>FINANZ_MINIMALIST</th>\n",
       "      <th>FINANZ_SPARER</th>\n",
       "      <th>FINANZ_VORSORGER</th>\n",
       "      <th>FINANZ_ANLEGER</th>\n",
       "      <th>FINANZ_UNAUFFAELLIGER</th>\n",
       "      <th>FINANZ_HAUSBAUER</th>\n",
       "      <th>GREEN_AVANTGARDE</th>\n",
       "      <th>HEALTH_TYP</th>\n",
       "      <th>...</th>\n",
       "      <th>CAMEO_DEU_2015_7E</th>\n",
       "      <th>CAMEO_DEU_2015_8A</th>\n",
       "      <th>CAMEO_DEU_2015_8B</th>\n",
       "      <th>CAMEO_DEU_2015_8C</th>\n",
       "      <th>CAMEO_DEU_2015_8D</th>\n",
       "      <th>CAMEO_DEU_2015_9A</th>\n",
       "      <th>CAMEO_DEU_2015_9B</th>\n",
       "      <th>CAMEO_DEU_2015_9C</th>\n",
       "      <th>CAMEO_DEU_2015_9D</th>\n",
       "      <th>CAMEO_DEU_2015_9E</th>\n",
       "    </tr>\n",
       "  </thead>\n",
       "  <tbody>\n",
       "    <tr>\n",
       "      <th>1</th>\n",
       "      <td>1.0</td>\n",
       "      <td>2</td>\n",
       "      <td>1</td>\n",
       "      <td>5</td>\n",
       "      <td>2</td>\n",
       "      <td>5</td>\n",
       "      <td>4</td>\n",
       "      <td>5</td>\n",
       "      <td>0</td>\n",
       "      <td>3.0</td>\n",
       "      <td>...</td>\n",
       "      <td>0</td>\n",
       "      <td>1</td>\n",
       "      <td>0</td>\n",
       "      <td>0</td>\n",
       "      <td>0</td>\n",
       "      <td>0</td>\n",
       "      <td>0</td>\n",
       "      <td>0</td>\n",
       "      <td>0</td>\n",
       "      <td>0</td>\n",
       "    </tr>\n",
       "    <tr>\n",
       "      <th>2</th>\n",
       "      <td>3.0</td>\n",
       "      <td>2</td>\n",
       "      <td>1</td>\n",
       "      <td>4</td>\n",
       "      <td>1</td>\n",
       "      <td>2</td>\n",
       "      <td>3</td>\n",
       "      <td>5</td>\n",
       "      <td>1</td>\n",
       "      <td>3.0</td>\n",
       "      <td>...</td>\n",
       "      <td>0</td>\n",
       "      <td>0</td>\n",
       "      <td>0</td>\n",
       "      <td>0</td>\n",
       "      <td>0</td>\n",
       "      <td>0</td>\n",
       "      <td>0</td>\n",
       "      <td>0</td>\n",
       "      <td>0</td>\n",
       "      <td>0</td>\n",
       "    </tr>\n",
       "    <tr>\n",
       "      <th>3</th>\n",
       "      <td>4.0</td>\n",
       "      <td>2</td>\n",
       "      <td>4</td>\n",
       "      <td>2</td>\n",
       "      <td>5</td>\n",
       "      <td>2</td>\n",
       "      <td>1</td>\n",
       "      <td>2</td>\n",
       "      <td>0</td>\n",
       "      <td>2.0</td>\n",
       "      <td>...</td>\n",
       "      <td>0</td>\n",
       "      <td>0</td>\n",
       "      <td>0</td>\n",
       "      <td>0</td>\n",
       "      <td>0</td>\n",
       "      <td>0</td>\n",
       "      <td>0</td>\n",
       "      <td>0</td>\n",
       "      <td>0</td>\n",
       "      <td>0</td>\n",
       "    </tr>\n",
       "    <tr>\n",
       "      <th>4</th>\n",
       "      <td>3.0</td>\n",
       "      <td>1</td>\n",
       "      <td>4</td>\n",
       "      <td>3</td>\n",
       "      <td>4</td>\n",
       "      <td>1</td>\n",
       "      <td>3</td>\n",
       "      <td>2</td>\n",
       "      <td>0</td>\n",
       "      <td>3.0</td>\n",
       "      <td>...</td>\n",
       "      <td>0</td>\n",
       "      <td>0</td>\n",
       "      <td>0</td>\n",
       "      <td>0</td>\n",
       "      <td>0</td>\n",
       "      <td>0</td>\n",
       "      <td>0</td>\n",
       "      <td>0</td>\n",
       "      <td>0</td>\n",
       "      <td>0</td>\n",
       "    </tr>\n",
       "    <tr>\n",
       "      <th>5</th>\n",
       "      <td>1.0</td>\n",
       "      <td>2</td>\n",
       "      <td>3</td>\n",
       "      <td>1</td>\n",
       "      <td>5</td>\n",
       "      <td>2</td>\n",
       "      <td>2</td>\n",
       "      <td>5</td>\n",
       "      <td>0</td>\n",
       "      <td>3.0</td>\n",
       "      <td>...</td>\n",
       "      <td>0</td>\n",
       "      <td>0</td>\n",
       "      <td>0</td>\n",
       "      <td>1</td>\n",
       "      <td>0</td>\n",
       "      <td>0</td>\n",
       "      <td>0</td>\n",
       "      <td>0</td>\n",
       "      <td>0</td>\n",
       "      <td>0</td>\n",
       "    </tr>\n",
       "  </tbody>\n",
       "</table>\n",
       "<p>5 rows × 177 columns</p>\n",
       "</div>"
      ],
      "text/plain": [
       "   ALTERSKATEGORIE_GROB  ANREDE_KZ  FINANZ_MINIMALIST  FINANZ_SPARER  \\\n",
       "1                   1.0          2                  1              5   \n",
       "2                   3.0          2                  1              4   \n",
       "3                   4.0          2                  4              2   \n",
       "4                   3.0          1                  4              3   \n",
       "5                   1.0          2                  3              1   \n",
       "\n",
       "   FINANZ_VORSORGER  FINANZ_ANLEGER  FINANZ_UNAUFFAELLIGER  FINANZ_HAUSBAUER  \\\n",
       "1                 2               5                      4                 5   \n",
       "2                 1               2                      3                 5   \n",
       "3                 5               2                      1                 2   \n",
       "4                 4               1                      3                 2   \n",
       "5                 5               2                      2                 5   \n",
       "\n",
       "   GREEN_AVANTGARDE  HEALTH_TYP  ...  CAMEO_DEU_2015_7E  CAMEO_DEU_2015_8A  \\\n",
       "1                 0         3.0  ...                  0                  1   \n",
       "2                 1         3.0  ...                  0                  0   \n",
       "3                 0         2.0  ...                  0                  0   \n",
       "4                 0         3.0  ...                  0                  0   \n",
       "5                 0         3.0  ...                  0                  0   \n",
       "\n",
       "   CAMEO_DEU_2015_8B  CAMEO_DEU_2015_8C  CAMEO_DEU_2015_8D  CAMEO_DEU_2015_9A  \\\n",
       "1                  0                  0                  0                  0   \n",
       "2                  0                  0                  0                  0   \n",
       "3                  0                  0                  0                  0   \n",
       "4                  0                  0                  0                  0   \n",
       "5                  0                  1                  0                  0   \n",
       "\n",
       "   CAMEO_DEU_2015_9B  CAMEO_DEU_2015_9C  CAMEO_DEU_2015_9D  CAMEO_DEU_2015_9E  \n",
       "1                  0                  0                  0                  0  \n",
       "2                  0                  0                  0                  0  \n",
       "3                  0                  0                  0                  0  \n",
       "4                  0                  0                  0                  0  \n",
       "5                  0                  0                  0                  0  \n",
       "\n",
       "[5 rows x 177 columns]"
      ]
     },
     "execution_count": 37,
     "metadata": {},
     "output_type": "execute_result"
    }
   ],
   "source": [
    "#final set of clean data\n",
    "azdias_dataset_good.head()"
   ]
  },
  {
   "cell_type": "markdown",
   "metadata": {},
   "source": [
    "### Step 1.3: Create a Cleaning Function\n",
    "\n",
    "Even though you've finished cleaning up the general population demographics data, it's important to look ahead to the future and realize that you'll need to perform the same cleaning steps on the customer demographics data. In this substep, complete the function below to execute the main feature selection, encoding, and re-engineering steps you performed above. Then, when it comes to looking at the customer data in Step 3, you can just run this function on that DataFrame to get the trimmed dataset in a single step."
   ]
  },
  {
   "cell_type": "code",
   "execution_count": 38,
   "metadata": {},
   "outputs": [],
   "source": [
    "customers_df = pd.read_csv(\"Udacity_CUSTOMERS_Subset.csv\", sep=\";\")\n",
    "azdias_df = pd.read_csv(\"Udacity_AZDIAS_Subset.csv\", sep=\";\")"
   ]
  },
  {
   "cell_type": "code",
   "execution_count": 39,
   "metadata": {},
   "outputs": [],
   "source": [
    "def map_cameo(input, pos):\n",
    "    if pd.isna(input):\n",
    "        return input\n",
    "    else:\n",
    "        return str(input)[pos]\n",
    "\n",
    "def clean_data(df):\n",
    "    \"\"\"\n",
    "    Perform feature trimming, re-encoding, and engineering for demographics\n",
    "    data\n",
    "    \n",
    "    INPUT: Demographics DataFrame\n",
    "    OUTPUT: Trimmed and cleaned demographics DataFrame\n",
    "    \"\"\"\n",
    "    # Load in the feature summary file.\n",
    "    feat_info = pd.read_csv(\"AZDIAS_Feature_Summary.csv\", sep=\";\")   \n",
    "    # Put in code here to execute all main cleaning steps:\n",
    "    # convert missing value codes into NaNs, ...\n",
    "    df_nan_treated = df.copy()\n",
    "\n",
    "    for col in df_nan_treated:\n",
    "        #get the dict for NaN\n",
    "        nan_replacement_val = feat_info.loc[feat_info['attribute'] == col, 'missing_or_unknown'].values[0]\n",
    "        try:\n",
    "            nan_replacer_list = pd.eval(nan_replacement_val)\n",
    "        except:\n",
    "            nan_replacer_list = nan_replacement_val.replace(\"[\", \"\").replace(\"]\", \"\").split(\",\")\n",
    "\n",
    "        if len(nan_replacer_list) > 0:\n",
    "            df_nan_treated[col].replace(to_replace=nan_replacer_list, value=np.nan, \\\n",
    "                     inplace=True)        \n",
    "\n",
    "        #check if all necessary values had been mapped to NaN\n",
    "        assert (len(df_nan_treated[df_nan_treated[col].isin(nan_replacer_list)]) == 0), \"Some values not mapped to NaN properly!\"\n",
    "\n",
    "    \n",
    "    # remove selected columns and rows, ...\n",
    "    \n",
    "    # This section removes columns with high NaN ratio\n",
    "    # calc ratio of NaN\n",
    "    num_rows_df = df_nan_treated.shape[0]\n",
    "    df_nan_ratio = df_nan_treated.isna().sum()/num_rows_df\n",
    "    df_nan_ratio = df_nan_ratio.sort_values(ascending=False)\n",
    "    df_nan_ratio = df_nan_ratio.reset_index()\n",
    "    df_nan_ratio = df_nan_ratio.rename(columns={'index': 'feature', 0: 'nan_ratio'})\n",
    "\n",
    "    #use mean + 1 std as threshold\n",
    "    outlier_threshold = df_nan_ratio['nan_ratio'].mean() + df_nan_ratio['nan_ratio'].std()\n",
    "    num_outlier = len(df_nan_ratio[df_nan_ratio['nan_ratio'] > outlier_threshold])\n",
    "    print (\"Number of outlier columns = %i\" % (num_outlier))\n",
    "    print (\"Percentage of outlier columns = %f %%\" % (100 * num_outlier / len(df_nan_ratio) ))    \n",
    "    \n",
    "    #add to list of features to be removed\n",
    "    features_to_remove = df_nan_ratio.loc[df_nan_ratio['nan_ratio'] > outlier_threshold, 'feature']\n",
    "    \n",
    "    # This section removes rows with high NaN ratio\n",
    "    # calc ratio of NaN    \n",
    "    df_nan_treated.drop(columns=features_to_remove, inplace=True)\n",
    "    num_column = df_nan_treated.shape[1]\n",
    "    row_nan_ratio = df_nan_treated.isna().sum(axis=1)/num_column\n",
    "\n",
    "    #use mean + 1 std as threshold\n",
    "    row_outlier_threshold = row_nan_ratio.mean() + row_nan_ratio.std()\n",
    "    print (\"Row Outlier Threshold : %f\" % row_outlier_threshold)\n",
    "\n",
    "    #only take the rows below the NaN threshold\n",
    "    df_dataset_good = df_nan_treated[row_nan_ratio <= row_outlier_threshold]\n",
    "    \n",
    "    # select, re-encode, and engineer column values.\n",
    "    # load initial list of features to be encoded from categorical data\n",
    "    features_categorical = feat_info.loc[feat_info['type'] == 'categorical', 'attribute']\n",
    "    features_to_encode = features_categorical.copy()\n",
    "    \n",
    "    #remove redundant features from categorical data\n",
    "    append_list = pd.Series(name='feature', data=['LP_FAMILIE_GROB', 'LP_STATUS_GROB', 'CAMEO_DEUG_2015'])\n",
    "    features_to_remove = features_to_remove.append(append_list, ignore_index=True)\n",
    "\n",
    "    #remove unwanted features\n",
    "    for index, feature in features_to_encode.iteritems():\n",
    "        if feature in features_to_remove.values:\n",
    "            features_to_encode.drop(index, inplace=True)\n",
    "            \n",
    "    #drop binary columns that need not be encoded \n",
    "    features_to_encode = features_to_encode.reset_index(drop=True)\n",
    "    \n",
    "    for index, feature in features_to_encode.iteritems():\n",
    "        unique_values = df_nan_treated[feature].dropna().unique()\n",
    "        if len(unique_values) == 2 and unique_values.dtype != 'object':\n",
    "            features_to_encode.drop(index, inplace=True)\n",
    "    #special handlers for 'PRAEGENDE_JUGENDJAHRE' feature\n",
    "    \n",
    "    #dict for mapping of original values to new features of 'interval' type\n",
    "    decade_map_dict = {-1:np.nan, 0:np.nan, 1:1, 2:1, 3:2, 4:2, 5:3, 6:3, 7:3, 8:4, 9:4, 10:5,\n",
    "                         11:5, 12:5, 13:5, 14:6, 15: 6}\n",
    "    movement_map_dict = {-1:np.nan, 0:np.nan, 1:1, 2:2, 3:1, 4:2, 5:1, 6:2, 7:2, 8:1, 9:2, 10:1,\n",
    "                         11:2, 12:1, 13:2, 14:1, 15: 2}\n",
    "\n",
    "    #create a new variable for the new map \n",
    "    df_dataset_good['PRAEGENDE_JUGENDJAHRE_DECADE'] = df_dataset_good['PRAEGENDE_JUGENDJAHRE'].replace(decade_map_dict)\n",
    "    df_dataset_good['PRAEGENDE_JUGENDJAHRE_MOVEMENT'] = df_dataset_good['PRAEGENDE_JUGENDJAHRE'].replace(movement_map_dict)\n",
    " \n",
    "    #special handler for 'CAMEON_INTL_2015' feature\n",
    "    df_dataset_good['CAMEO_HOUSEHOLD_WEALTH'] = df_dataset_good['CAMEO_INTL_2015'].apply(map_cameo, pos=0)\n",
    "    df_dataset_good['CAMEO_LIFE_STAGE'] = df_dataset_good['CAMEO_INTL_2015'].apply(map_cameo, pos=1)\n",
    "\n",
    "    #append new features created to list of features to be encoded\n",
    "    mixed_append_list = pd.Series(name='feature', data=['PRAEGENDE_JUGENDJAHRE_MOVEMENT', 'PRAEGENDE_JUGENDJAHRE_DECADE', \\\n",
    "                                              'CAMEO_HOUSEHOLD_WEALTH', 'CAMEO_LIFE_STAGE'])\n",
    "    features_to_encode = features_to_encode.append(mixed_append_list, ignore_index=True)   \n",
    "    \n",
    "    #append all the 'mixed' type of features to the list of features to be encoded\n",
    "    features_to_encode = features_to_encode.append(feat_info.loc[feat_info['type'] == 'mixed', 'attribute'])\n",
    "\n",
    "    #append redundant features to the list of features to be removed \n",
    "    append_list = pd.Series(name='attribute', data=['LP_LEBENSPHASE_GROB', 'PRAEGENDE_JUGENDJAHRE', 'CAMEO_INTL_2015'])\n",
    "    features_to_remove = features_to_remove.append(append_list, ignore_index=True)\n",
    "        \n",
    "    #remove any unwanted features from the list for encoding later\n",
    "    for index, feature in features_to_encode.iteritems():\n",
    "        if feature in features_to_remove.values:\n",
    "            features_to_encode.drop(index, inplace=True)        \n",
    "\n",
    "    #remove unwanted features from good subset of dataset\n",
    "    for feature in df_dataset_good.columns:\n",
    "        if feature in features_to_remove.values:\n",
    "            df_dataset_good.drop(columns=feature, inplace=True)\n",
    "            \n",
    "    #encode all the necessary features\n",
    "    df_dataset_good = pd.get_dummies(columns=features_to_encode, data=df_dataset_good)    \n",
    "    \n",
    "    # Return the cleaned dataframe.\n",
    "    return df_dataset_good"
   ]
  },
  {
   "cell_type": "code",
   "execution_count": 40,
   "metadata": {},
   "outputs": [
    {
     "name": "stdout",
     "output_type": "stream",
     "text": [
      "Number of outlier columns = 5\n",
      "Percentage of outlier columns = 5.882353 %\n",
      "Row Outlier Threshold : 0.415780\n"
     ]
    },
    {
     "name": "stderr",
     "output_type": "stream",
     "text": [
      "/Users/songhanwong/anaconda3/lib/python3.7/site-packages/ipykernel_launcher.py:99: SettingWithCopyWarning: \n",
      "A value is trying to be set on a copy of a slice from a DataFrame.\n",
      "Try using .loc[row_indexer,col_indexer] = value instead\n",
      "\n",
      "See the caveats in the documentation: http://pandas.pydata.org/pandas-docs/stable/user_guide/indexing.html#returning-a-view-versus-a-copy\n",
      "/Users/songhanwong/anaconda3/lib/python3.7/site-packages/ipykernel_launcher.py:100: SettingWithCopyWarning: \n",
      "A value is trying to be set on a copy of a slice from a DataFrame.\n",
      "Try using .loc[row_indexer,col_indexer] = value instead\n",
      "\n",
      "See the caveats in the documentation: http://pandas.pydata.org/pandas-docs/stable/user_guide/indexing.html#returning-a-view-versus-a-copy\n",
      "/Users/songhanwong/anaconda3/lib/python3.7/site-packages/ipykernel_launcher.py:103: SettingWithCopyWarning: \n",
      "A value is trying to be set on a copy of a slice from a DataFrame.\n",
      "Try using .loc[row_indexer,col_indexer] = value instead\n",
      "\n",
      "See the caveats in the documentation: http://pandas.pydata.org/pandas-docs/stable/user_guide/indexing.html#returning-a-view-versus-a-copy\n",
      "/Users/songhanwong/anaconda3/lib/python3.7/site-packages/ipykernel_launcher.py:104: SettingWithCopyWarning: \n",
      "A value is trying to be set on a copy of a slice from a DataFrame.\n",
      "Try using .loc[row_indexer,col_indexer] = value instead\n",
      "\n",
      "See the caveats in the documentation: http://pandas.pydata.org/pandas-docs/stable/user_guide/indexing.html#returning-a-view-versus-a-copy\n"
     ]
    },
    {
     "name": "stdout",
     "output_type": "stream",
     "text": [
      "Number of outlier columns = 6\n",
      "Percentage of outlier columns = 7.058824 %\n",
      "Row Outlier Threshold : 0.239045\n"
     ]
    }
   ],
   "source": [
    "customer_df_clean = clean_data(customers_df.copy())\n",
    "azdias_df_clean = clean_data(azdias_df.copy())"
   ]
  },
  {
   "cell_type": "markdown",
   "metadata": {},
   "source": [
    "## Step 2: Feature Transformation\n",
    "\n",
    "### Step 2.1: Apply Feature Scaling\n",
    "\n",
    "Before we apply dimensionality reduction techniques to the data, we need to perform feature scaling so that the principal component vectors are not influenced by the natural differences in scale for features. Starting from this part of the project, you'll want to keep an eye on the [API reference page for sklearn](http://scikit-learn.org/stable/modules/classes.html) to help you navigate to all of the classes and functions that you'll need. In this substep, you'll need to check the following:\n",
    "\n",
    "- sklearn requires that data not have missing values in order for its estimators to work properly. So, before applying the scaler to your data, make sure that you've cleaned the DataFrame of the remaining missing values. This can be as simple as just removing all data points with missing data, or applying an [Imputer](http://scikit-learn.org/stable/modules/generated/sklearn.preprocessing.Imputer.html) to replace all missing values. You might also try a more complicated procedure where you temporarily remove missing values in order to compute the scaling parameters before re-introducing those missing values and applying imputation. Think about how much missing data you have and what possible effects each approach might have on your analysis, and justify your decision in the discussion section below.\n",
    "- For the actual scaling function, a [StandardScaler](http://scikit-learn.org/stable/modules/generated/sklearn.preprocessing.StandardScaler.html) instance is suggested, scaling each feature to mean 0 and standard deviation 1.\n",
    "- For these classes, you can make use of the `.fit_transform()` method to both fit a procedure to the data as well as apply the transformation to the data at the same time. Don't forget to keep the fit sklearn objects handy, since you'll be applying them to the customer demographics data towards the end of the project."
   ]
  },
  {
   "cell_type": "code",
   "execution_count": 41,
   "metadata": {},
   "outputs": [
    {
     "name": "stdout",
     "output_type": "stream",
     "text": [
      "Percentage of rows with at least one missing feature: 20.576908821116305 %\n"
     ]
    }
   ],
   "source": [
    "# If you've not yet cleaned the dataset of all NaN values, then investigate and\n",
    "# do that now.\n",
    "# calc percentage of rows with at least one missing feature\n",
    "\n",
    "perc_row_na = 100 - 100 * len(azdias_df_clean.dropna())/len(azdias_df_clean) \n",
    "print (\"Percentage of rows with at least one missing feature: %s %%\" % perc_row_na)"
   ]
  },
  {
   "cell_type": "markdown",
   "metadata": {},
   "source": [
    "The percentage is quite high, about 20.6%! We cannot just remove all these rows. But let's calculate the scaling parameters in the event if we do so."
   ]
  },
  {
   "cell_type": "code",
   "execution_count": 42,
   "metadata": {},
   "outputs": [],
   "source": [
    "from sklearn import impute\n",
    "\n",
    "def impute_feature(df):\n",
    "    \"\"\"\n",
    "    Perform imputation on missing values.\n",
    "    \n",
    "    For 'ordinal', 'interval' and 'categorical' feature, we use 'most_frequent' as strategy\n",
    "    For 'numeric' feature, we use 'mean' as strategy\n",
    "    \n",
    "    INPUT: Demographics DataFrame\n",
    "    OUTPUT: Demographics DataFrame where missing values are imputed\n",
    "    \"\"\"    \n",
    "\n",
    "    for feature in df.columns:\n",
    "        feature_attribute = feat_info.loc[feat_info['attribute'] == feature, 'type'].values\n",
    "        if feature_attribute == 'ordinal' or feature_attribute == 'interval' or feature_attribute == 'categorical' or feature_attribute == 'mixed':\n",
    "            col = df[[feature]].values\n",
    "            col = impute.SimpleImputer(strategy='most_frequent').fit_transform(col)\n",
    "            col = col.reshape(-1, )\n",
    "            df.loc[:, feature] = col\n",
    "        elif feature_attribute == 'numeric':\n",
    "            col = df[[feature]].values\n",
    "            col = impute.SimpleImputer(strategy='mean').fit_transform(col)\n",
    "            col = col.reshape(-1, )\n",
    "            df.loc[:, feature] = col\n",
    "            \n",
    "    return df"
   ]
  },
  {
   "cell_type": "code",
   "execution_count": 43,
   "metadata": {},
   "outputs": [
    {
     "name": "stderr",
     "output_type": "stream",
     "text": [
      "/Users/songhanwong/anaconda3/lib/python3.7/site-packages/ipykernel_launcher.py:16: DeprecationWarning: The truth value of an empty array is ambiguous. Returning False, but in future this will result in an error. Use `array.size > 0` to check that an array is not empty.\n",
      "  app.launch_new_instance()\n",
      "/Users/songhanwong/anaconda3/lib/python3.7/site-packages/ipykernel_launcher.py:21: DeprecationWarning: The truth value of an empty array is ambiguous. Returning False, but in future this will result in an error. Use `array.size > 0` to check that an array is not empty.\n"
     ]
    }
   ],
   "source": [
    "#dataset where missing values are dropped\n",
    "azdias_dataset_clean_no_nan = azdias_df_clean.dropna()\n",
    "\n",
    "#dataset where missing values are imputed\n",
    "azdias_dataset_clean_imputed = impute_feature(azdias_df_clean.copy())"
   ]
  },
  {
   "cell_type": "code",
   "execution_count": 44,
   "metadata": {},
   "outputs": [],
   "source": [
    "def scale_feature(df):\n",
    "    \"\"\"\n",
    "    Perform feature scaling on input dataframe\n",
    "    \n",
    "    INPUT: Demographics DataFrame\n",
    "    OUTPUT: Demographics DataFrame where features have been scaled\n",
    "    \"\"\"\n",
    "    for feature in df.columns:\n",
    "        feature_attribute = feat_info.loc[feat_info['attribute'] == feature, 'type'].values\n",
    "        if feature_attribute == 'ordinal' or feature_attribute == 'interval':\n",
    "            col = df[[feature]].values\n",
    "            scaler = preprocessing.MinMaxScaler()\n",
    "            col = scaler.fit_transform(col)\n",
    "            col = col.reshape(-1, )\n",
    "            df.loc[:, feature] = col\n",
    "        elif feature_attribute == 'numeric':\n",
    "            col = df[[feature]].values\n",
    "            scaler = preprocessing.StandardScaler()\n",
    "            scaler.fit(col)\n",
    "            print (\"Feature (mean, variance): %s (%s, %s)\" %(feature, scaler.mean_, scaler.var_))\n",
    "            col = scaler.fit_transform(col)\n",
    "            col = col.reshape(-1, )\n",
    "            df.loc[:, feature] = col\n",
    "            \n",
    "    return df"
   ]
  },
  {
   "cell_type": "code",
   "execution_count": 45,
   "metadata": {},
   "outputs": [
    {
     "name": "stdout",
     "output_type": "stream",
     "text": [
      "These are the scaling parameters (for `numeric` features) when we drop all the missing values from the dataset.\n",
      "Feature (mean, variance): ANZ_PERSONEN ([1.80257417], [1.26249458])\n",
      "Feature (mean, variance): ANZ_TITEL ([0.00417796], [0.0047047])\n",
      "Feature (mean, variance): ANZ_HAUSHALTE_AKTIV ([8.54360839], [241.01141448])\n",
      "Feature (mean, variance): ANZ_HH_TITEL ([0.0406343], [0.09563958])\n",
      "Feature (mean, variance): MIN_GEBAEUDEJAHR ([1992.5368898], [2.40825289])\n",
      "Feature (mean, variance): KBA13_ANZAHL_PKW ([611.29001813], [110548.44558451])\n",
      "These are the scaling parameters (for `numeric` features) when all missing values from dataset are imputed.\n",
      "Feature (mean, variance): ANZ_PERSONEN ([1.72991103], [1.33760256])\n",
      "Feature (mean, variance): ANZ_TITEL ([0.0041538], [0.00469944])\n",
      "Feature (mean, variance): ANZ_HAUSHALTE_AKTIV ([8.3663791], [244.21845435])\n",
      "Feature (mean, variance): ANZ_HH_TITEL ([0.04069314], [0.1047097])\n",
      "Feature (mean, variance): MIN_GEBAEUDEJAHR ([1993.23060773], [10.24881393])\n",
      "Feature (mean, variance): KBA13_ANZAHL_PKW ([619.656052], [114018.20496428])\n"
     ]
    }
   ],
   "source": [
    "import warnings\n",
    "from sklearn import preprocessing \n",
    "\n",
    "warnings.filterwarnings(action='ignore')\n",
    "\n",
    "print (\"These are the scaling parameters (for `numeric` features) when we drop all the missing values from the dataset.\")\n",
    "azdias_dataset_clean_no_nan_scaled = scale_feature(azdias_dataset_clean_no_nan.copy())\n",
    "print (\"These are the scaling parameters (for `numeric` features) when all missing values from dataset are imputed.\")\n",
    "azdias_dataset_clean_imputed_scaled = scale_feature(azdias_dataset_clean_imputed.copy())"
   ]
  },
  {
   "cell_type": "markdown",
   "metadata": {},
   "source": [
    "We see that there are some small differences when values are imputed instead of removed."
   ]
  },
  {
   "cell_type": "markdown",
   "metadata": {},
   "source": [
    "### Discussion 2.1: Apply Feature Scaling\n",
    "\n",
    "**Ans**: \n",
    "\n",
    "For missing values under `ordinal`, `interval` and `categorical`, we used **most_frequent** strategy to impute missing values. For missing values under `numeric` category, **mean** strategy is used instead. \n",
    "\n",
    "We applied **MinMax** scaling to `ordinal` and `interval` features. `categorical` features were not scaled since they had already been hot-encoded. `numerical` features are normalised using standard scaler.\n",
    "\n"
   ]
  },
  {
   "cell_type": "markdown",
   "metadata": {},
   "source": [
    "### Step 2.2: Perform Dimensionality Reduction\n",
    "\n",
    "On your scaled data, you are now ready to apply dimensionality reduction techniques.\n",
    "\n",
    "- Use sklearn's [PCA](http://scikit-learn.org/stable/modules/generated/sklearn.decomposition.PCA.html) class to apply principal component analysis on the data, thus finding the vectors of maximal variance in the data. To start, you should not set any parameters (so all components are computed) or set a number of components that is at least half the number of features (so there's enough features to see the general trend in variability).\n",
    "- Check out the ratio of variance explained by each principal component as well as the cumulative variance explained. Try plotting the cumulative or sequential values using matplotlib's [`plot()`](https://matplotlib.org/api/_as_gen/matplotlib.pyplot.plot.html) function. Based on what you find, select a value for the number of transformed features you'll retain for the clustering part of the project.\n",
    "- Once you've made a choice for the number of components to keep, make sure you re-fit a PCA instance to perform the decided-on transformation."
   ]
  },
  {
   "cell_type": "code",
   "execution_count": 46,
   "metadata": {},
   "outputs": [],
   "source": [
    "# Apply PCA to the data.\n",
    "from sklearn.decomposition import PCA\n",
    "\n",
    "pca = PCA()\n",
    "pca.fit(azdias_dataset_clean_imputed_scaled)\n",
    "np.set_printoptions(suppress=True) "
   ]
  },
  {
   "cell_type": "code",
   "execution_count": 47,
   "metadata": {},
   "outputs": [
    {
     "data": {
      "text/plain": [
       "Text(0, 0.5, 'Variance explained (%)')"
      ]
     },
     "execution_count": 47,
     "metadata": {},
     "output_type": "execute_result"
    },
    {
     "data": {
      "image/png": "[encoded data removed]",
      "text/plain": [
       "<Figure size 432x288 with 1 Axes>"
      ]
     },
     "metadata": {
      "needs_background": "light"
     },
     "output_type": "display_data"
    }
   ],
   "source": [
    "# Investigate the variance accounted for by each principal component.\n",
    "n = 30\n",
    "plt.bar([i for i in range(0,n)], pca.explained_variance_ratio_[0:n] * 100)\n",
    "plt.xlabel('Principal Component Number')\n",
    "plt.ylabel('Variance explained (%)')"
   ]
  },
  {
   "cell_type": "markdown",
   "metadata": {},
   "source": [
    "We see that at around n = 10 we start to see significant decrease in the variance that can be explained by the PC. n = 10 could be a good cut-off point for selecting the maximum number of PCs."
   ]
  },
  {
   "cell_type": "code",
   "execution_count": 48,
   "metadata": {},
   "outputs": [
    {
     "data": {
      "text/plain": [
       "Text(0, 0.5, 'Cumulative Variance explained (%)')"
      ]
     },
     "execution_count": 48,
     "metadata": {},
     "output_type": "execute_result"
    },
    {
     "data": {
      "image/png": "[encoded data removed]",
      "text/plain": [
       "<Figure size 432x288 with 1 Axes>"
      ]
     },
     "metadata": {
      "needs_background": "light"
     },
     "output_type": "display_data"
    }
   ],
   "source": [
    "# Plot the cumulative sum of variance explained by the first n-th Principal Components\n",
    "plt.bar([i for i in range(0,n)], np.cumsum(pca.explained_variance_ratio_[0:n] * 100))\n",
    "plt.xlabel('Principal Component Number')\n",
    "plt.ylabel('Cumulative Variance explained (%)')"
   ]
  },
  {
   "cell_type": "code",
   "execution_count": 49,
   "metadata": {},
   "outputs": [],
   "source": [
    "# Re-apply PCA to the data while selecting for number of components to retain.\n",
    "num_pc = 15\n",
    "pca_15 = PCA(n_components=num_pc)\n",
    "pca_15.fit(azdias_dataset_clean_imputed_scaled)\n",
    "azdias_dataset_clean_pca_reduced = pca_15.fit_transform(azdias_dataset_clean_imputed_scaled)"
   ]
  },
  {
   "cell_type": "markdown",
   "metadata": {},
   "source": [
    "### Discussion 2.2: Perform Dimensionality Reduction\n",
    "\n",
    "**Ans**: About 50% of the total variance can be explained by the first 15 principal components. We also see that after around n=15, the variance explained tends to plateau and hovers below 2%. This is not significant, which may be attributed to noise instead. Therefore, it is sufficient to retain the first 15 principal components of the data."
   ]
  },
  {
   "cell_type": "markdown",
   "metadata": {},
   "source": [
    "### Step 2.3: Interpret Principal Components\n",
    "\n",
    "Now that we have our transformed principal components, it's a nice idea to check out the weight of each variable on the first few components to see if they can be interpreted in some fashion.\n",
    "\n",
    "As a reminder, each principal component is a unit vector that points in the direction of highest variance (after accounting for the variance captured by earlier principal components). The further a weight is from zero, the more the principal component is in the direction of the corresponding feature. If two features have large weights of the same sign (both positive or both negative), then increases in one tend expect to be associated with increases in the other. To contrast, features with different signs can be expected to show a negative correlation: increases in one variable should result in a decrease in the other.\n",
    "\n",
    "- To investigate the features, you should map each weight to their corresponding feature name, then sort the features according to weight. The most interesting features for each principal component, then, will be those at the beginning and end of the sorted list. Use the data dictionary document to help you understand these most prominent features, their relationships, and what a positive or negative value on the principal component might indicate.\n",
    "- You should investigate and interpret feature associations from the first three principal components in this substep. To help facilitate this, you should write a function that you can call at any time to print the sorted list of feature weights, for the *i*-th principal component. This might come in handy in the next step of the project, when you interpret the tendencies of the discovered clusters."
   ]
  },
  {
   "cell_type": "code",
   "execution_count": 50,
   "metadata": {},
   "outputs": [
    {
     "name": "stdout",
     "output_type": "stream",
     "text": [
      "Feature: ANZ_HAUSHALTE_AKTIV, Weight: 0.43 \n",
      "Feature: ANZ_PERSONEN, Weight: -0.30 \n",
      "Feature: KBA13_ANZAHL_PKW, Weight: -0.23 \n",
      "Feature: ANZ_HH_TITEL, Weight: 0.21 \n",
      "Feature: PLZ8_BAUMAX_1.0, Weight: -0.20 \n",
      "Feature: MIN_GEBAEUDEJAHR, Weight: -0.18 \n",
      "Feature: CAMEO_HOUSEHOLD_WEALTH_5, Weight: 0.16 \n",
      "Feature: PLZ8_ANTG4, Weight: 0.15 \n",
      "Feature: CAMEO_LIFE_STAGE_1, Weight: 0.15 \n",
      "Feature: LP_STATUS_FEIN_1.0, Weight: 0.14 \n"
     ]
    }
   ],
   "source": [
    "# Map weights for the first principal component to corresponding feature names\n",
    "# and then print the linked values, sorted by weight.\n",
    "# HINT: Try defining a function here or in a new cell that you can reuse in the\n",
    "# other cells.\n",
    "\n",
    "def get_pc_feature_weight(pca_feature_weight, features, end_idx, threshold):\n",
    "    \"\"\"\n",
    "    Prints the top i-th features based on the unit vector of a principal component\n",
    "    Ignores features with weight below the threshold\n",
    "    \n",
    "    Args: \n",
    "        pca_weight: Unit vector of a principal component\n",
    "        features: List of features of the data\n",
    "        end_idx: Top i-th of features to return\n",
    "    \"\"\"    \n",
    "    feature_idx_pc = np.argsort(np.abs(pca_feature_weight))\n",
    "    for index in np.flip(feature_idx_pc)[:end_idx]:\n",
    "        if abs(pca_feature_weight[index]) > threshold:\n",
    "            print (\"Feature: %s, Weight: %.2f \" %(feature_list[index], pca_feature_weight[index]))\n",
    "\n",
    "feature_list = azdias_dataset_clean_imputed_scaled.columns\n",
    "get_pc_feature_weight(pca_15.components_[0], feature_list, 10, 0.1)"
   ]
  },
  {
   "cell_type": "code",
   "execution_count": 51,
   "metadata": {},
   "outputs": [
    {
     "name": "stdout",
     "output_type": "stream",
     "text": [
      "Feature: PRAEGENDE_JUGENDJAHRE_DECADE_6.0, Weight: -0.26 \n",
      "Feature: FINANZ_SPARER, Weight: -0.25 \n",
      "Feature: ZABEOTYP_3, Weight: 0.25 \n",
      "Feature: FINANZ_VORSORGER, Weight: 0.22 \n",
      "Feature: ALTERSKATEGORIE_GROB, Weight: 0.21 \n",
      "Feature: FINANZ_ANLEGER, Weight: -0.21 \n",
      "Feature: FINANZ_UNAUFFAELLIGER, Weight: -0.21 \n",
      "Feature: ANZ_HH_TITEL, Weight: 0.21 \n",
      "Feature: FINANZTYP_1, Weight: -0.20 \n",
      "Feature: SEMIO_REL, Weight: -0.18 \n"
     ]
    }
   ],
   "source": [
    "# Map weights for the second principal component to corresponding feature names\n",
    "# and then print the linked values, sorted by weight.\n",
    "get_pc_feature_weight(pca_15.components_[1], feature_list, 10, 0.1)"
   ]
  },
  {
   "cell_type": "code",
   "execution_count": 52,
   "metadata": {},
   "outputs": [
    {
     "name": "stdout",
     "output_type": "stream",
     "text": [
      "Feature: ANZ_HH_TITEL, Weight: 0.60 \n",
      "Feature: ANZ_TITEL, Weight: 0.49 \n",
      "Feature: ANZ_PERSONEN, Weight: 0.40 \n",
      "Feature: ANZ_HAUSHALTE_AKTIV, Weight: 0.29 \n",
      "Feature: LP_FAMILIE_FEIN_1.0, Weight: -0.15 \n",
      "Feature: KBA13_ANZAHL_PKW, Weight: 0.11 \n"
     ]
    }
   ],
   "source": [
    "# Map weights for the third principal component to corresponding feature names\n",
    "# and then print the linked values, sorted by weight.\n",
    "get_pc_feature_weight(pca_15.components_[2], feature_list, 10, 0.1)"
   ]
  },
  {
   "cell_type": "markdown",
   "metadata": {},
   "source": [
    "### Discussion 2.3: Interpret Principal Components\n",
    "\n",
    "(Double-click this cell and replace this text with your own text, reporting your observations from detailed investigation of the first few principal components generated. Can we interpret positive and negative values from them in a meaningful way?)\n",
    "\n",
    "**Ans**:\n",
    "\n",
    "#### **1st Principal Component**\n",
    "\n",
    "##### **Features (Positive Values)**\n",
    "1. Number of households in the building \n",
    "2. Number of professional academic title holders in building\n",
    "3. German CAMEO Household Wealth (Poorer Households)\n",
    "4. Number of 1-2 family houses in the PLZ8 region (very high share of 1-2 family homes) \n",
    "5. German CAMEO Life Stage (Pre-Family Couples & Singles)\n",
    "6. Social status (typical low-income earners)\n",
    "\n",
    "##### **Features (Negative Values)**\n",
    "1. Number of adults in household\n",
    "2. Number of cars in the PLZ8 region\n",
    "3. Most common building type within the PLZ8 region (mainly 1-2 family homes)\n",
    "4. First year building was mentioned in the database\n",
    "\n",
    "##### **Interpretation of the 1st PC**\n",
    "The 1st PC appears to be linked to income, family size, home size, social status and life stage."
   ]
  },
  {
   "cell_type": "markdown",
   "metadata": {},
   "source": [
    "#### **2nd Principal Component**\n",
    "\n",
    "##### **Features (Positive Values)**\n",
    "1. Energy consumption typology (fair supplied)\n",
    "2. Financial typology - be prepared, (1 - very high, 5 - very low)\n",
    "3. Estimated age based on given name analysis (1: <30 year old, 4: > 60 year old, 9:uniformly distributed)\n",
    "4. Number of professional academic title holders in building\n",
    "\n",
    "##### **Features (Negative Values)**\n",
    "1. Dominating movement of person's youth (60s)\n",
    "2. Financial typology - money-saver, (1 - very high, 5 - very low)\n",
    "3. Financial typology - investor, (1 - very high, 5 - very low)\n",
    "4. Financial typology - inconspicuous (not fond of luxury) (1 - very high, 5 - very low)\n",
    "5. Most descriptive financial type for individual (low financial interest (MINIMALIST))\n",
    "6. Personality typology - religious (1 - highest affinity, 7 - lowest affinity)\n",
    "\n",
    "##### **Interpretation of the 2nd PC**\n",
    "It seems that the 2nd PC is linked to age, movement and savings and financial habits of the person."
   ]
  },
  {
   "cell_type": "markdown",
   "metadata": {},
   "source": [
    "#### **3rd Principal Component**\n",
    "\n",
    "##### **Features (Positive Values)**\n",
    "1. Number of professional academic title holders in building\n",
    "2. Number of professional academic title holders in household\n",
    "3. Number of adults in household\n",
    "4. Number of households in the building\n",
    "5. Number of cars in the PLZ8 region\n",
    "\n",
    "##### **Features (Negative Values)**\n",
    "1. Family type - single \n",
    "\n",
    "##### **Interpretation of the 3rd PC**\n",
    "\n",
    "The 3rd PC seems to be linked to family type and academic status of the member of household."
   ]
  },
  {
   "cell_type": "markdown",
   "metadata": {},
   "source": [
    "## Step 3: Clustering\n",
    "\n",
    "### Step 3.1: Apply Clustering to General Population\n",
    "\n",
    "You've assessed and cleaned the demographics data, then scaled and transformed them. Now, it's time to see how the data clusters in the principal components space. In this substep, you will apply k-means clustering to the dataset and use the average within-cluster distances from each point to their assigned cluster's centroid to decide on a number of clusters to keep.\n",
    "\n",
    "- Use sklearn's [KMeans](http://scikit-learn.org/stable/modules/generated/sklearn.cluster.KMeans.html#sklearn.cluster.KMeans) class to perform k-means clustering on the PCA-transformed data.\n",
    "- Then, compute the average difference from each point to its assigned cluster's center. **Hint**: The KMeans object's `.score()` method might be useful here, but note that in sklearn, scores tend to be defined so that larger is better. Try applying it to a small, toy dataset, or use an internet search to help your understanding.\n",
    "- Perform the above two steps for a number of different cluster counts. You can then see how the average distance decreases with an increasing number of clusters. However, each additional cluster provides a smaller net benefit. Use this fact to select a final number of clusters in which to group the data. **Warning**: because of the large size of the dataset, it can take a long time for the algorithm to resolve. The more clusters to fit, the longer the algorithm will take. You should test for cluster counts through at least 10 clusters to get the full picture, but you shouldn't need to test for a number of clusters above about 30.\n",
    "- Once you've selected a final number of clusters to use, re-fit a KMeans instance to perform the clustering operation. Make sure that you also obtain the cluster assignments for the general demographics data, since you'll be using them in the final Step 3.3."
   ]
  },
  {
   "cell_type": "code",
   "execution_count": 53,
   "metadata": {},
   "outputs": [],
   "source": [
    "from sklearn.cluster import MiniBatchKMeans, KMeans\n",
    "#Use MiniBatchKMeans to reduce computation time\n",
    "\n",
    "N_MAX = 30\n",
    "avg_clster_dist_list = []\n",
    "\n",
    "# Over a number of different cluster counts...\n",
    "for n in range(1, N_MAX + 1):\n",
    "    # run k-means clustering on the data \n",
    "    kmeans = MiniBatchKMeans(n_clusters=n, random_state=0, max_iter=200, batch_size=10000).fit(azdias_dataset_clean_pca_reduced)\n",
    "    # compute the average within-cluster distances.\n",
    "    avg_clster_dist = -1 * kmeans.score(azdias_dataset_clean_pca_reduced) / len(azdias_dataset_clean_pca_reduced)\n",
    "    avg_clster_dist_list.append(avg_clster_dist)"
   ]
  },
  {
   "cell_type": "code",
   "execution_count": 54,
   "metadata": {},
   "outputs": [
    {
     "data": {
      "text/plain": [
       "Text(0, 0.5, 'Average within-cluster distance')"
      ]
     },
     "execution_count": 54,
     "metadata": {},
     "output_type": "execute_result"
    },
    {
     "data": {
      "image/png": "[encoded data removed]",
      "text/plain": [
       "<Figure size 432x288 with 1 Axes>"
      ]
     },
     "metadata": {
      "needs_background": "light"
     },
     "output_type": "display_data"
    }
   ],
   "source": [
    "# Investigate the change in within-cluster distance across number of clusters.\n",
    "# HINT: Use matplotlib's plot function to visualize this relationship.\n",
    "plt.plot(range(1, N_MAX+1), avg_clster_dist_list)\n",
    "plt.xlabel('Number of clusters')\n",
    "plt.ylabel('Average within-cluster distance')"
   ]
  },
  {
   "cell_type": "code",
   "execution_count": 55,
   "metadata": {},
   "outputs": [],
   "source": [
    "# Re-fit the k-means model with the selected number of clusters and obtain\n",
    "# cluster predictions for the general population demographics data.\n",
    "kmeans_azdias = KMeans(n_clusters=20, random_state=0).fit(azdias_dataset_clean_pca_reduced)"
   ]
  },
  {
   "cell_type": "code",
   "execution_count": 56,
   "metadata": {},
   "outputs": [],
   "source": [
    "azdias_clusters = kmeans_azdias.predict(azdias_dataset_clean_pca_reduced)"
   ]
  },
  {
   "cell_type": "markdown",
   "metadata": {},
   "source": [
    "### Discussion 3.1: Apply Clustering to General Population\n",
    "\n",
    "(Double-click this cell and replace this text with your own text, reporting your findings and decisions regarding clustering. Into how many clusters have you decided to segment the population?)\n",
    "\n",
    "**Ans**: From the Elbow plot, we can see that the average within-cluster distance continnues to decrease, before becoming saturated around n = 20. Beyond this point, there is no significant reduction in cluster distances. We chose n = 20 as the number of clusters for segmenting the population."
   ]
  },
  {
   "cell_type": "markdown",
   "metadata": {},
   "source": [
    "### Step 3.2: Apply All Steps to the Customer Data\n",
    "\n",
    "Now that you have clusters and cluster centers for the general population, it's time to see how the customer data maps on to those clusters. Take care to not confuse this for re-fitting all of the models to the customer data. Instead, you're going to use the fits from the general population to clean, transform, and cluster the customer data. In the last step of the project, you will interpret how the general population fits apply to the customer data.\n",
    "\n",
    "- Don't forget when loading in the customers data, that it is semicolon (`;`) delimited.\n",
    "- Apply the same feature wrangling, selection, and engineering steps to the customer demographics using the `clean_data()` function you created earlier. (You can assume that the customer demographics data has similar meaning behind missing data patterns as the general demographics data.)\n",
    "- Use the sklearn objects from the general demographics data, and apply their transformations to the customers data. That is, you should not be using a `.fit()` or `.fit_transform()` method to re-fit the old objects, nor should you be creating new sklearn objects! Carry the data through the feature scaling, PCA, and clustering steps, obtaining cluster assignments for all of the data in the customer demographics data."
   ]
  },
  {
   "cell_type": "code",
   "execution_count": 57,
   "metadata": {},
   "outputs": [],
   "source": [
    "# Load in the customer demographics data.\n",
    "customers_dataset = pd.read_csv(\"Udacity_CUSTOMERS_Subset.csv\", sep=\";\")"
   ]
  },
  {
   "cell_type": "code",
   "execution_count": 58,
   "metadata": {},
   "outputs": [
    {
     "name": "stdout",
     "output_type": "stream",
     "text": [
      "Number of outlier columns = 5\n",
      "Percentage of outlier columns = 5.882353 %\n",
      "Row Outlier Threshold : 0.415780\n",
      "Feature (mean, variance): ANZ_PERSONEN ([2.27470113], [1.94318404])\n",
      "Feature (mean, variance): ANZ_TITEL ([0.02039269], [0.02322])\n",
      "Feature (mean, variance): ANZ_HAUSHALTE_AKTIV ([5.05321845], [203.28787421])\n",
      "Feature (mean, variance): ANZ_HH_TITEL ([0.0674134], [0.29156874])\n",
      "Feature (mean, variance): MIN_GEBAEUDEJAHR ([1993.05665902], [9.43933106])\n",
      "Feature (mean, variance): KBA13_ANZAHL_PKW ([667.23121585], [114232.66444131])\n"
     ]
    }
   ],
   "source": [
    "# Apply preprocessing, feature transformation, and clustering from the general\n",
    "# demographics onto the customer data, obtaining cluster predictions for the\n",
    "# customer demographics data.\n",
    "\n",
    "customers_dataset_clean = clean_data(customers_dataset.copy())\n",
    "customers_dataset_clean_imputed = impute_feature(customers_dataset_clean.copy())\n",
    "customers_dataset_clean_imputed_scaled = scale_feature(customers_dataset_clean_imputed.copy())"
   ]
  },
  {
   "cell_type": "code",
   "execution_count": 59,
   "metadata": {},
   "outputs": [],
   "source": [
    "customers_dataset_clean_pca_reduced = pca_15.fit_transform(customers_dataset_clean_imputed_scaled)\n",
    "customers_clusters = kmeans_azdias.predict(customers_dataset_clean_pca_reduced)"
   ]
  },
  {
   "cell_type": "markdown",
   "metadata": {},
   "source": [
    "### Step 3.3: Compare Customer Data to Demographics Data\n",
    "\n",
    "At this point, you have clustered data based on demographics of the general population of Germany, and seen how the customer data for a mail-order sales company maps onto those demographic clusters. In this final substep, you will compare the two cluster distributions to see where the strongest customer base for the company is.\n",
    "\n",
    "Consider the proportion of persons in each cluster for the general population, and the proportions for the customers. If we think the company's customer base to be universal, then the cluster assignment proportions should be fairly similar between the two. If there are only particular segments of the population that are interested in the company's products, then we should see a mismatch from one to the other. If there is a higher proportion of persons in a cluster for the customer data compared to the general population (e.g. 5% of persons are assigned to a cluster for the general population, but 15% of the customer data is closest to that cluster's centroid) then that suggests the people in that cluster to be a target audience for the company. On the other hand, the proportion of the data in a cluster being larger in the general population than the customer data (e.g. only 2% of customers closest to a population centroid that captures 6% of the data) suggests that group of persons to be outside of the target demographics.\n",
    "\n",
    "Take a look at the following points in this step:\n",
    "\n",
    "- Compute the proportion of data points in each cluster for the general population and the customer data. Visualizations will be useful here: both for the individual dataset proportions, but also to visualize the ratios in cluster representation between groups. Seaborn's [`countplot()`](https://seaborn.pydata.org/generated/seaborn.countplot.html) or [`barplot()`](https://seaborn.pydata.org/generated/seaborn.barplot.html) function could be handy.\n",
    "  - Recall the analysis you performed in step 1.1.3 of the project, where you separated out certain data points from the dataset if they had more than a specified threshold of missing values. If you found that this group was qualitatively different from the main bulk of the data, you should treat this as an additional data cluster in this analysis. Make sure that you account for the number of data points in this subset, for both the general population and customer datasets, when making your computations!\n",
    "- Which cluster or clusters are overrepresented in the customer dataset compared to the general population? Select at least one such cluster and infer what kind of people might be represented by that cluster. Use the principal component interpretations from step 2.3 or look at additional components to help you make this inference. Alternatively, you can use the `.inverse_transform()` method of the PCA and StandardScaler objects to transform centroids back to the original data space and interpret the retrieved values directly.\n",
    "- Perform a similar investigation for the underrepresented clusters. Which cluster or clusters are underrepresented in the customer dataset compared to the general population, and what kinds of people are typified by these clusters?"
   ]
  },
  {
   "cell_type": "code",
   "execution_count": 60,
   "metadata": {},
   "outputs": [
    {
     "data": {
      "text/plain": [
       "<matplotlib.legend.Legend at 0x1a2c6fdda0>"
      ]
     },
     "execution_count": 60,
     "metadata": {},
     "output_type": "execute_result"
    },
    {
     "data": {
      "image/png": "[encoded data removed]",
      "text/plain": [
       "<Figure size 1080x360 with 1 Axes>"
      ]
     },
     "metadata": {
      "needs_background": "light"
     },
     "output_type": "display_data"
    }
   ],
   "source": [
    "# Compare the proportion of data in each cluster for the customer data to the\n",
    "# proportion of data in each cluster for the general population.\n",
    "\n",
    "fig = plt.figure(figsize=(15, 5))\n",
    "plt.hist([customers_clusters, azdias_clusters], bins=20, density=True)\n",
    "plt.ylabel(\"Proportion of data\")\n",
    "plt.xlabel(\"Cluster\")\n",
    "plt.title(\"Proportion of data in each cluster\")\n",
    "ax = plt.xticks([i for i in range (0,20)])\n",
    "plt.legend(['Customers', 'Population of Germany'])"
   ]
  },
  {
   "cell_type": "code",
   "execution_count": 205,
   "metadata": {},
   "outputs": [],
   "source": [
    "# What kinds of people are part of a cluster that is overrepresented in the\n",
    "# customer data compared to the general population?\n",
    "def plot_hist_population_cluster(azdias_dataset, azdias_dataset_clean_imputed, cluster_kmeans, cluster_n, feature_list):\n",
    "    \"\"\"\n",
    "    Plot the histograms of features for `cluster_n` of the population dataset\n",
    "    using the original dataset (before features were encoded)\n",
    "    \n",
    "    Args: \n",
    "        azdias_dataset: Population dataset (before encoding)\n",
    "        azdias_dataset_clean_imputed: Population dataset (after encoding)\n",
    "        kmeans: KMeans clusters of the population dataset\n",
    "        cluster_n: Choice of cluster\n",
    "        feature_list: List of features for plotting\n",
    "    \"\"\" \n",
    "    fig = plt.figure(figsize=(20, 10))\n",
    "    n_subplot = len(feature_list)\n",
    "    n_rows = 2\n",
    "    index = 0\n",
    "    for feature in feature_list:\n",
    "        index += 1\n",
    "        ax = fig.add_subplot(n_rows,n_subplot/n_rows,index)\n",
    "        df_cluster_n = azdias_dataset_clean_imputed.loc[cluster_kmeans == cluster_n]\n",
    "        sns.countplot(azdias_dataset.loc[df_cluster_n.index.values, feature], ax=ax)"
   ]
  },
  {
   "cell_type": "code",
   "execution_count": 214,
   "metadata": {},
   "outputs": [
    {
     "data": {
      "image/png": "[encoded data removed]",
      "text/plain": [
       "<Figure size 1440x720 with 6 Axes>"
      ]
     },
     "metadata": {
      "needs_background": "light"
     },
     "output_type": "display_data"
    }
   ],
   "source": [
    "feature_list = ['ALTERSKATEGORIE_GROB', 'ANREDE_KZ', 'FINANZTYP', 'LP_LEBENSPHASE_GROB', 'CAMEO_DEUG_2015', 'BALLRAUM']\n",
    "plot_hist_population_cluster(azdias_dataset, azdias_dataset_clean_imputed, azdias_clusters, 1, feature_list)"
   ]
  },
  {
   "cell_type": "markdown",
   "metadata": {},
   "source": [
    "Cluster **1** is overrepresented in the customer data as compared to the general population. Looking at the histograms for selected features, the dominant characteristics of this cluster are:\n",
    "\n",
    "* < 30 years old or 30 - 45 years old\n",
    "* male\n",
    "* low financial interest \n",
    "* single low-income and average earners of younger age\n",
    "* working class\n",
    "* mostly live in less than 10 km away from urban center"
   ]
  },
  {
   "cell_type": "code",
   "execution_count": 215,
   "metadata": {},
   "outputs": [
    {
     "data": {
      "image/png": "[encoded data removed]",
      "text/plain": [
       "<Figure size 1440x720 with 6 Axes>"
      ]
     },
     "metadata": {
      "needs_background": "light"
     },
     "output_type": "display_data"
    }
   ],
   "source": [
    "# What kinds of people are part of a cluster that is underrepresented in the\n",
    "# customer data compared to the general population?\n",
    "feature_list = ['ALTERSKATEGORIE_GROB', 'ANREDE_KZ', 'FINANZTYP', 'LP_LEBENSPHASE_GROB', 'CAMEO_DEUG_2015', 'BALLRAUM']\n",
    "plot_hist_population_cluster(azdias_dataset, azdias_dataset_clean_imputed, azdias_clusters, 11, feature_list)"
   ]
  },
  {
   "cell_type": "markdown",
   "metadata": {},
   "source": [
    "Cluster **11** is underrepresented in the customer data as compared to the general population.\n",
    "\n",
    "* 46 - 60 years old or > 60 years old\n",
    "* female\n",
    "* mostly inconspicuous consumer, or money-saver or investor\n",
    "* single low-income and average earners of higher age\n",
    "* working class\n",
    "* mostly live in less than 10 km away from urban centres, but there's also a good mix of those who live further away"
   ]
  },
  {
   "cell_type": "markdown",
   "metadata": {},
   "source": [
    "### Discussion 3.3: Compare Customer Data to Demographics Data\n",
    "\n",
    "(Double-click this cell and replace this text with your own text, reporting findings and conclusions from the clustering analysis. Can we describe segments of the population that are relatively popular with the mail-order company, or relatively unpopular with the company?)\n",
    "\n",
    "**Ans**: Based on the cluster analysis above, we can roughly say that the more popular consumers are young males that are relatively higher earners living and working near urban areas. The less popular segment are the older females  with average earning power, most of whom are single and working class. This group of people also tend to live near urban-centres, with a good mix of those living further away from urban centres, especially if compared to the younger male population segment."
   ]
  },
  {
   "cell_type": "markdown",
   "metadata": {},
   "source": [
    "> Congratulations on making it this far in the project! Before you finish, make sure to check through the entire notebook from top to bottom to make sure that your analysis follows a logical flow and all of your findings are documented in **Discussion** cells. Once you've checked over all of your work, you should export the notebook as an HTML document to submit for evaluation. You can do this from the menu, navigating to **File -> Download as -> HTML (.html)**. You will submit both that document and this notebook for your project submission."
   ]
  },
  {
   "cell_type": "markdown",
   "metadata": {},
   "source": []
  }
 ],
 "metadata": {
  "kernelspec": {
   "display_name": "Python 3",
   "language": "python",
   "name": "python3"
  },
  "language_info": {
   "codemirror_mode": {
    "name": "ipython",
    "version": 3
   },
   "file_extension": ".py",
   "mimetype": "text/x-python",
   "name": "python",
   "nbconvert_exporter": "python",
   "pygments_lexer": "ipython3",
   "version": "3.7.1"
  }
 },
 "nbformat": 4,
 "nbformat_minor": 4
}
